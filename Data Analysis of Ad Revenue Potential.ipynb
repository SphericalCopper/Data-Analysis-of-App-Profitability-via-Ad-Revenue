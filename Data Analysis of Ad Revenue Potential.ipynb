{
 "cells": [
  {
   "cell_type": "markdown",
   "metadata": {},
   "source": [
    "# Data Analysis of App profitability via Ad revenue\n",
    "\n",
    "In this project, I'm a Data Analyst working for a company that builds only free apps available on Google Play and the App Store. \n",
    "\n",
    "Because the apps are free, most of my company's profits come from the ad revenue we generate from advertisements seen within the apps. The revenue we generate therefore directly correlates to the number of users who download and use our apps. \n",
    "\n",
    "The aim of this project is thus to analyze consumer patterns and other data so as to glean insight into what kind of app might be most popular among users, to help our software developers make more educated decisions on what kind of apps to create. "
   ]
  },
  {
   "cell_type": "code",
   "execution_count": 2,
   "metadata": {
    "collapsed": false
   },
   "outputs": [
    {
     "name": "stdout",
     "output_type": "stream",
     "text": [
      "['Coloring book moana', 'ART_AND_DESIGN', '3.9', '967', '14M', '500,000+', 'Free', '0', 'Everyone', 'Art & Design;Pretend Play', 'January 15, 2018', '2.0.0', '4.0.3 and up']\n",
      "\n",
      "\n",
      "['U Launcher Lite – FREE Live Cool Themes, Hide Apps', 'ART_AND_DESIGN', '4.7', '87510', '8.7M', '5,000,000+', 'Free', '0', 'Everyone', 'Art & Design', 'August 1, 2018', '1.2.4', '4.0.3 and up']\n",
      "\n",
      "\n",
      "Number of rows: 10841\n",
      "Number of columns: 13\n",
      "['389801252', 'Instagram', '113954816', 'USD', '0.0', '2161558', '1289', '4.5', '4.0', '10.23', '12+', 'Photo & Video', '37', '0', '29', '1']\n",
      "\n",
      "\n",
      "['529479190', 'Clash of Clans', '116476928', 'USD', '0.0', '2130805', '579', '4.5', '4.5', '9.24.12', '9+', 'Games', '38', '5', '18', '1']\n",
      "\n",
      "\n",
      "Number of rows: 7197\n",
      "Number of columns: 16\n"
     ]
    }
   ],
   "source": [
    "from csv import reader\n",
    "\n",
    "\n",
    "# google play dataset\n",
    "\n",
    "opened_file = open('googleplaystore.csv')\n",
    "read_file = reader(opened_file)\n",
    "android = list(read_file)\n",
    "android_header = android[0]\n",
    "android = android[1:]\n",
    "\n",
    "# apple store dataset \n",
    "\n",
    "opened_file = open('AppleStore.csv')\n",
    "read_file = reader(opened_file)\n",
    "ios = list(read_file)\n",
    "ios_header = ios[0]\n",
    "ios = ios[1:]\n",
    "\n",
    "# print(android_header)\n",
    "# print(ios_header)\n",
    "\n",
    "def explore_data(dataset, start, end, rows_and_columns=False):\n",
    "    dataset_slice = dataset[start:end]    \n",
    "    for row in dataset_slice:\n",
    "        print(row)\n",
    "        print('\\n') # adds a new (empty) line after each row\n",
    "\n",
    "    if rows_and_columns:\n",
    "        print('Number of rows:', len(dataset))\n",
    "        print('Number of columns:', len(dataset[0]))\n",
    "\n",
    "        \n",
    "# Exploring the data:\n",
    "        \n",
    "explore_data(android, 1, 3, True)\n",
    "\n",
    "explore_data(ios, 1, 3, True)\n"
   ]
  },
  {
   "cell_type": "markdown",
   "metadata": {},
   "source": [
    "Apple Store data-set has 7197 rows, 16 columns.\n",
    "Google Play data-set has 10841 rows, 13 columns.\n",
    "\n",
    "These figures exclude the header columns."
   ]
  },
  {
   "cell_type": "code",
   "execution_count": 3,
   "metadata": {
    "collapsed": false
   },
   "outputs": [
    {
     "name": "stdout",
     "output_type": "stream",
     "text": [
      "['id', 'track_name', 'size_bytes', 'currency', 'price', 'rating_count_tot', 'rating_count_ver', 'user_rating', 'user_rating_ver', 'ver', 'cont_rating', 'prime_genre', 'sup_devices.num', 'ipadSc_urls.num', 'lang.num', 'vpp_lic']\n",
      "\n",
      "\n",
      "['App', 'Category', 'Rating', 'Reviews', 'Size', 'Installs', 'Type', 'Price', 'Content Rating', 'Genres', 'Last Updated', 'Current Ver', 'Android Ver']\n"
     ]
    }
   ],
   "source": [
    "print(ios_header)\n",
    "print('\\n')\n",
    "print(android_header)"
   ]
  },
  {
   "cell_type": "markdown",
   "metadata": {},
   "source": [
    "In the case of the Apple Store, the columns that might be of interest to our project are most likely:\n",
    "\n",
    "- price (Price amount)\n",
    "- currency (Currency Type)\n",
    "- rating_count_tot (User Rating counts (for all version))\n",
    "- rating_count_ver (User Rating counts (for current version))\n",
    "- user_rating (Average User Rating value (for all version))\n",
    "- prime_genre (\"prime_genre\": Primary Genre)\n",
    "\n",
    "\n",
    "With the Google Store, the columns of interest to us are most likely:\n",
    "\n",
    "- App\n",
    "- Category\n",
    "- Reviews\n",
    "- Installs\n",
    "- Type\n",
    "- Price\n",
    "- Genres\n"
   ]
  },
  {
   "cell_type": "markdown",
   "metadata": {},
   "source": [
    "# Data Cleaning\n",
    "\n",
    "Because our company is only interested in data pertaining to free apps, the apps that come with a price need to be filtered out.\n",
    "\n",
    "Additionally, data that is incorrect or duplicate will also need to be pruned out of the tables."
   ]
  },
  {
   "cell_type": "code",
   "execution_count": 4,
   "metadata": {
    "collapsed": false
   },
   "outputs": [
    {
     "name": "stdout",
     "output_type": "stream",
     "text": [
      "['Life Made WI-Fi Touchscreen Photo Frame', '1.9', '19', '3.0M', '1,000+', 'Free', '0', 'Everyone', '', 'February 11, 2018', '1.0.19', '4.0 and up']\n",
      "\n",
      "\n",
      "['App', 'Category', 'Rating', 'Reviews', 'Size', 'Installs', 'Type', 'Price', 'Content Rating', 'Genres', 'Last Updated', 'Current Ver', 'Android Ver']\n"
     ]
    }
   ],
   "source": [
    "# It's been reported that row 10472 is incorrect for Google Play data.\n",
    "\n",
    "print(android[10472])\n",
    "print('\\n')\n",
    "print(android_header)"
   ]
  },
  {
   "cell_type": "markdown",
   "metadata": {},
   "source": [
    "It would appear that the 'Category' column for row 10472 in the Google Play dataset is missing.\n",
    "\n",
    "Checking further the length of row 10472 against the length of the header row, we see that this is indeed the case:"
   ]
  },
  {
   "cell_type": "code",
   "execution_count": 5,
   "metadata": {
    "collapsed": false
   },
   "outputs": [
    {
     "name": "stdout",
     "output_type": "stream",
     "text": [
      "12\n",
      "13\n"
     ]
    }
   ],
   "source": [
    "print(len(android[10472]))\n",
    "print(len(android_header))"
   ]
  },
  {
   "cell_type": "markdown",
   "metadata": {},
   "source": [
    "To remedy this, we'll delete the errant column:"
   ]
  },
  {
   "cell_type": "code",
   "execution_count": 6,
   "metadata": {
    "collapsed": false
   },
   "outputs": [
    {
     "name": "stdout",
     "output_type": "stream",
     "text": [
      "['osmino Wi-Fi: free WiFi', 'TOOLS', '4.2', '134203', '4.1M', '10,000,000+', 'Free', '0', 'Everyone', 'Tools', 'August 7, 2018', '6.06.14', '4.4 and up']\n"
     ]
    }
   ],
   "source": [
    "del android[10472]\n",
    "print(android[10472])"
   ]
  },
  {
   "cell_type": "markdown",
   "metadata": {},
   "source": [
    "Some Duplicate entries also exist, as seen below:"
   ]
  },
  {
   "cell_type": "code",
   "execution_count": 7,
   "metadata": {
    "collapsed": false
   },
   "outputs": [
    {
     "name": "stdout",
     "output_type": "stream",
     "text": [
      "1181\n"
     ]
    }
   ],
   "source": [
    "duplicates = []\n",
    "unique = []\n",
    "\n",
    "for app in android:\n",
    "    if app[0] in unique:\n",
    "        duplicates.append(app[0])\n",
    "    else:\n",
    "        unique.append(app[0])\n",
    "        \n",
    "print(len(duplicates))"
   ]
  },
  {
   "cell_type": "markdown",
   "metadata": {},
   "source": [
    "It looks like 1181 entries were duplicates. A dictionary will be constructed to view the frequencies with which an app was repeated:"
   ]
  },
  {
   "cell_type": "code",
   "execution_count": 8,
   "metadata": {
    "collapsed": false
   },
   "outputs": [
    {
     "name": "stdout",
     "output_type": "stream",
     "text": [
      "{'Truecaller: Caller ID, SMS spam blocking & Dialer': 1, 'My Dressing - Fashion closet': 1, 'Booking.com Travel Deals': 2, 'Candy Crush Jelly Saga': 1, 'Tiny Scanner Pro: PDF Doc Scan': 1, 'Apartment List: Housing, Apt, and Property Rentals': 1, 'Showtime Anytime': 1, 'DC Comics': 1, 'Viki: Asian TV Dramas & Movies': 2, 'Black People Meet Singles Date': 1, 'Candy Camera - selfie, beauty camera, photo editor': 2, 'Wheretoget: Shop in style': 1, 'No.Draw - Colors by Number 2018': 1, 'USA TODAY': 2, 'Yandex Browser with Protect': 1, 'Crackle - Free TV & Movies': 2, 'FP Notebook': 1, 'Ada - Your Health Guide': 1, 'G Cloud Backup': 1, 'Tumblr': 2, 'JH Blood Pressure Monitor': 1, 'InstaBeauty -Makeup Selfie Cam': 1, 'QuickBooks Accounting: Invoicing & Expenses': 2, 'Wordscapes': 3, 'Calm - Meditate, Sleep, Relax': 1, 'RT 516 VET': 1, 'Zappos – Shoe shopping made simple': 1, 'Curriculum vitae App CV Builder Free Resume Maker': 1, 'Podcast App: Free & Offline Podcasts by Player FM': 1, 'Random Video Chat App With Strangers': 1, 'E*TRADE Mobile': 1, 'FastMeet: Chat, Dating, Love': 1, 'VPN Free - Betternet Hotspot VPN & Private Browser': 1, 'Target - now with Cartwheel': 2, 'Free Dating App - Meet Local Singles - Flirt Chat': 1, 'Wendy’s – Food and Offers': 1, 'Flashlight': 1, 'Dropbox': 2, 'Real Racing 3': 1, 'Facebook Lite': 1, 'Anthem Anywhere': 1, 'muzmatch: Muslim & Arab Singles, Marriage & Dating': 2, 'PJ Masks: Moonlight Heroes': 2, 'Hill Climb Racing 2': 1, 'EMT PASS': 1, 'H TV': 1, 'Ibotta: Cash Back Savings, Rewards & Coupons App': 1, 'LEGO® Juniors Create & Cruise': 1, 'ZEDGE™ Ringtones & Wallpapers': 3, 'Planner Pro-Personal Organizer': 1, 'BET NOW - Watch Shows': 2, 'Muzy - Share photos & collages': 1, 'Papumba Academy - Fun Learning For Kids': 2, 'Starbucks': 1, 'Free Dating Hook Up Messenger': 1, 'Digit Save Money Automatically': 1, 'Lumosity: #1 Brain Games & Cognitive Training App': 1, 'Candy Bomb': 1, 'Microsoft Excel': 1, 'Telemundo Now': 1, 'Facebook Ads Manager': 1, 'eBay: Buy & Sell this Summer - Discover Deals Now!': 4, 'Overstock – Home Decor, Furniture Shopping': 1, 'Pinterest': 2, 'FOX': 1, 'British Airways': 1, 'LOVOO': 1, 'Plants vs. Zombies™ Heroes': 1, 'Transenger – Ts Dating and Chat for Free': 1, 'K PLUS': 1, 'Udemy - Online Courses': 2, 'Angry Birds 2': 1, 'Scarf Fashion Designer': 1, 'Cardi B Live Stream Video Chat - Prank': 1, 'Who': 1, 'Camera FV-5 Lite': 1, 'Rosetta Stone: Learn to Speak & Read New Languages': 3, 'Orbitz - Hotels, Flights & Package Deals': 1, '365Scores - Live Scores': 1, 'Food Network': 2, 'MX Player': 2, 'Robinhood - Investing, No Fees': 1, 'Talkatone: Free Texts, Calls & Phone Number': 1, 'LINE Camera - Photo editor': 1, 'Strawberry Shortcake BerryRush': 2, 'PGA TOUR': 1, 'Messenger Lite: Free Calls & Messages': 1, 'I’m Expecting - Pregnancy App': 1, 'Whoscall - Caller ID & Block': 1, 'Calls & Text by Mo+': 1, 'Slack': 2, 'OkCupid Dating': 2, 'VH1': 2, 'Flow Free': 4, 'CM Launcher 3D - Theme, Wallpapers, Efficient': 1, 'Live Girls Talk - Free Video Chat': 1, 'Youper - AI Therapy': 2, 'Super Jim Jump - pixel 3d': 2, 'Mcqueen Coloring pages': 1, 'My Little Pony: Harmony Quest': 1, 'Calorie Counter - MyFitnessPal': 4, 'NOOK: Read eBooks & Magazines': 1, 'Zomato - Restaurant Finder and Food Delivery App': 1, 'Breastfeeding Tracker Baby Log': 1, 'Wish - Shopping Made Fun': 4, 'AnatomyMapp': 1, 'Run Sausage Run!': 1, 'realestate.com.au - Buy, Rent & Sell Property': 1, 'All Mental disorders': 1, 'The CW': 3, 'Uber': 1, 'BBM - Free Calls & Messages': 1, 'Fun Kid Racing - Motocross': 1, 'Chat Kids - Chat Room For Kids': 1, 'AP Mobile - Breaking News': 1, 'SKOUT - Meet, Chat, Go Live': 1, 'Vigo Video': 1, 'Block Puzzle Classic Legend !': 1, 'C Programming': 1, 'Any.do: To-do list, Calendar, Reminders & Planner': 2, 'Moneycontrol – Stocks, Sensex, Mutual Funds, IPO': 1, 'Seven - 7 Minute Workout Training Challenge': 1, 'Premier League - Official App': 1, 'Headspace: Meditation & Mindfulness': 1, 'Viber Messenger': 4, 'School of Dragons': 1, 'Badoo - Free Chat & Dating App': 3, 'Crew - Free Messaging and Scheduling': 1, 'Score! Hero': 2, 'Cardboard': 1, 'Facetune - For Free': 2, 'The Game of Life': 1, 'CT Scan Cross Sectional Anatomy': 1, 'Bubble Shooter 2': 1, 'AccuWeather: Daily Forecast & Live Weather Reports': 1, 'American Airlines': 2, 'Moovit: Bus Time & Train Time Live Info': 1, 'Anger of stick 5 : zombie': 1, 'Video Downloader': 1, 'Periscope - Live Video': 2, 'Genius Scan - PDF Scanner': 1, 'BBW Dating & Plus Size Chat': 2, 'Wanelo Shopping': 1, 'WhatsApp Business': 1, 'Chess Free': 1, 'Paramedic Protocol Provider': 1, \"JackThreads: Men's Shopping\": 2, 'Blood Pressure Companion': 1, 'Cheapflights – Flight Search': 1, 'Block Craft 3D: Building Simulator Games For Free': 2, 'Chrome Dev': 1, 'Jurassic World™ Alive': 1, 'Baby Panda Care': 1, \"Dunkin' Donuts\": 1, 'Tubi TV - Free Movies & TV': 2, 'Smart Launcher 5': 1, 'Castle Clash: Heroes of the Empire US': 1, 'LINE: Free Calls & Messages': 2, 'Cougar Dating Life : Date Older Women Sugar Mummy': 1, 'Reuters News': 1, 'Hide App, Private Dating, Safe Chat - PrivacyHider': 1, 'Gyft - Mobile Gift Card Wallet': 2, 'The NBC App - Watch Live TV and Full Episodes': 1, 'Invoice 2go — Professional Invoices and Estimates': 1, 'Flipkart Online Shopping App': 1, 'CM Browser - Ad Blocker , Fast Download , Privacy': 1, 'Word Search': 3, 'Share Music & Transfer Files - Xender': 1, \"COOKING MAMA Let's Cook!\": 1, 'English Grammar Test': 1, 'BZWBK24 mobile': 1, 'Spanish English Translator': 1, 'Farm Heroes Saga': 4, 'Zombie Catchers': 5, 'Textgram - write on photos': 1, 'Video Player All Format': 1, 'CM FILE MANAGER HD': 1, 'MeetMe: Chat & Meet New People': 4, 'Google Translate': 1, 'Turbo FAST': 1, 'slither.io': 5, 'Hole19: Golf GPS App, Rangefinder & Scorecard': 1, 'Telegram X': 1, '95Live -SG#1 Live Streaming App': 1, 'TextNow - free text + calls': 1, 'Asana: organize team projects': 1, 'UNICORN - Color By Number & Pixel Art Coloring': 1, 'Human Anatomy Atlas 2018: Complete 3D Human Body': 2, 'Toca Life: City': 1, 'Yahoo Fantasy Sports - #1 Rated Fantasy App': 4, 'MTV': 1, 'KakaoTalk: Free Calls & Text': 2, 'Banfield Pet Health Tracker': 1, 'FotMob - Live Soccer Scores': 1, 'Pokémon GO': 1, 'Love Balls': 1, 'Teladoc Member': 1, 'Fallout Shelter': 1, 'Red Bull TV: Live Sports, Music & Entertainment': 1, 'POF Free Dating App': 2, 'Diabetes:M': 1, 'Angry Birds Classic': 4, 'Insightly CRM': 1, 'Fox News – Breaking News, Live Video & News Alerts': 2, 'free video calls and chat': 2, 'MLB Ballpark': 1, 'Walmart': 1, 'Acorns - Invest Spare Change': 1, 'Dungeon Hunter Champions: Epic Online Action RPG': 1, \"fred's Pharmacy\": 1, 'Meditation Music - Relax, Yoga': 1, 'YouTube': 1, 'The Emirates App': 1, 'Health and Nutrition Guide': 1, 'Camera FV-5': 1, 'BeyondMenu Food Delivery': 1, 'Quora': 1, 'WatchESPN': 3, 'Find Real Love — YouLove Premium Dating': 1, 'Crunchyroll - Everything Anime': 2, 'PAC-MAN': 1, 'WeChat': 3, 'MARVEL Strike Force': 2, 'Learn 50 languages': 1, 'Google PDF Viewer': 2, 'Chick-fil-A': 2, 'Plants vs. Zombies FREE': 4, 'Monster High™': 1, 'Nurse Grid': 1, 'Medical ID - In Case of Emergency (ICE)': 1, 'Episode - Choose Your Story': 1, 'Penn State Health OnDemand': 1, 'Text free - Free Text + Call': 1, 'Hungry Shark Evolution': 2, 'Runkeeper - GPS Track Run Walk': 1, 'Free Dating App - YoCutie - Flirt, Chat & Meet': 1, 'Best Fiends - Free Puzzle Game': 1, 'FreshBooks Classic': 1, 'mySugr: the blood sugar tracker made just for you': 2, 'Invoice & Time Tracking - Zoho': 1, 'Glide - Video Chat Messenger': 1, 'BP Journal - Blood Pressure Diary': 1, 'Food Calorie Calculator': 1, 'MyPlate Calorie Tracker': 1, 'Weight Loss Running by Verv': 2, 'BBC Sport': 1, 'A Manual of Acupuncture': 1, 'WhatsApp Messenger': 2, 'Dating for 50 plus Mature Singles – FINALLY': 1, 'QuickPic - Photo Gallery with Google Drive Support': 2, 'Gboard - the Google Keyboard': 2, 'ESPN Fantasy Sports': 3, 'Blood Pressure(BP) Diary': 1, '420 BZ Budeze Delivery': 1, 'Weight Watchers Mobile': 2, 'Google Drive': 3, 'Photo Editor Pro': 1, 'Clash of Clans': 3, 'Free Blood Pressure': 2, 'Free Cam Girls - Live Webcam': 1, 'BBC News': 2, 'Microsoft OneDrive': 1, 'HBO NOW: Stream TV & Movies': 3, 'My Diet Diary Calorie Counter': 1, 'Netflix': 4, 'Stocard - Rewards Cards Wallet': 1, 'Hot Wheels: Race Off': 1, 'PowerDirector Video Editor App: 4K, Slow Mo & More': 1, 'AliExpress - Smarter Shopping, Better Living': 3, 'HBO GO: Stream with TV Package': 1, 'Fruits Bomb': 1, 'Tiny Scanner - PDF Scanner App': 1, 'Elmo Calls by Sesame Street': 2, 'Hangouts Dialer - Call Phones': 1, 'PlayKids - Educational cartoons and games for kids': 1, 'HotelTonight: Book amazing deals at great hotels': 2, 'Bubble Shooter': 5, 'Last Day on Earth: Survival': 1, 'Weight Loss Tracker - RecStyle': 1, 'NFL': 2, 'SnipSnap Coupon App': 1, 'Gardenscapes': 1, 'Do It Later: Tasks & To-Dos': 1, 'My Photo Keyboard': 1, 'TO-FU Oh!SUSHI': 1, 'Colorfy: Coloring Book for Adults - Free': 1, 'Calculator': 1, 'VLC for Android': 1, 'PicsArt Photo Studio: Collage Maker & Pic Editor': 1, 'Fashion in Vogue': 2, 'Lark - 24/7 Health Coach': 1, 'Hangouts': 3, 'Cymera Camera- Photo Editor, Filter,Collage,Layout': 3, 'Text Free: WiFi Calling App': 2, 'FarmersOnly Dating': 1, 'Babbel – Learn Languages': 3, 'Blood Pressure Monitor': 1, 'Redfin Real Estate': 1, 'NOOK App for NOOK Devices': 1, 'Zombie Hunter King': 3, 'Six Pack in 30 Days - Abs Workout': 1, 'Chrome Beta': 1, 'The Coupons App': 3, 'Cartoon Network App': 1, 'HISTORY: Watch TV Show Full Episodes & Specials': 2, 'ColorNote Notepad Notes': 1, 'Capital One® Mobile': 1, 'STARZ': 2, 'Cricbuzz - Live Cricket Scores & News': 1, 'Subway Surfers': 5, 'imo free video calls and chat': 3, 'Cut the Rope FULL FREE': 2, 'AdWords Express': 1, 'Shadow Fight 2': 1, 'ZOOM Cloud Meetings': 1, 'Photo Editor by Aviary': 1, 'Vargo Anesthesia Mega App': 1, 'InstaSize Photo Filters & Collage Editor': 1, 'Home Workout - No Equipment': 1, 'Candy Crush Soda Saga': 2, 'Crossy Road': 1, 'Daily Yoga - Yoga Fitness Plans': 2, 'CM Locker - Security Lockscreen': 1, 'Talkray - Free Calls & Texts': 1, 'Diary with lock': 1, 'Google Keep': 3, 'Minecraft': 1, 'YouTube Gaming': 1, 'DINO HUNTER: DEADLY SHORES': 1, 'Shopkick: Free Gift Cards, Shop Rewards & Deals': 1, 'Black White Interracial Dating - Interracial Match': 1, 'CNBC: Breaking Business News & Live Market Data': 1, 'Just She - Top Lesbian Dating': 2, 'Cache Cleaner-DU Speed Booster (booster & cleaner)': 1, 'Dictionary - Merriam-Webster': 1, 'RetailMeNot - Coupons, Deals & Discount Shopping': 2, 'FOX Sports: Live Streaming, Scores & News': 1, 'Jewels Star: OZ adventure': 1, 'Block Buddy': 1, 'Howlr': 1, 'ai.type Free Emoji Keyboard': 1, 'Sounds for Toddlers FREE': 1, 'Wunderlist: To-Do List & Tasks': 2, 'Tango - Live Video Broadcast': 1, 'All Social Networks': 1, 'Camera360: Selfie Photo Editor with Funny Sticker': 2, 'Apex Launcher': 2, 'Candy Crush Saga': 6, 'Oxford Dictionary of English : Free': 1, 'Google News': 3, 'Talking Ben the Dog': 1, 'EMT-B Pocket Prep': 1, 'Amazon Kindle': 1, 'Amazon for Tablets': 1, 'Carousell: Snap-Sell, Chat-Buy': 1, 'Thomas & Friends: Race On!': 1, 'ScriptSave WellRx Rx Discounts': 1, 'Todoist: To-do lists for task management & errands': 2, 'Tapatalk - 100,000+ Forums': 1, 'Journal Club: Medicine': 1, 'Offline Maps & Navigation': 1, 'Camera MX - Free Photo & Video Camera': 1, 'NBC News': 1, 'iBP Blood Pressure': 1, 'We Heart It': 1, 'Garena Free Fire': 3, 'myAT&T': 1, 'Google Earth': 1, 'Zillow: Find Houses for Sale & Apartments for Rent': 1, 'Realtor.com Real Estate: Homes for Sale and Rent': 1, 'SignEasy | Sign and Fill PDF and other Documents': 1, 'Etsy: Handmade & Vintage Goods': 1, 'Google Duo - High Quality Video Calls': 1, 'Harry Potter: Hogwarts Mystery': 1, 'Phone Tracker : Family Locator': 1, 'Fly Delta': 1, 'Nova Launcher': 1, 'Learn English with Wlingua': 1, 'Farming Simulator 14': 1, 'Strawberry Shortcake Ice Cream Island': 1, 'Super Hearing Super Ear Amplifier': 1, 'Jaumo Dating, Flirt & Live Video': 1, 'Toon Blast': 2, 'LiveMe - Video chat, new friends, and make money': 1, 'Hinge: Dating & Relationships': 1, 'DEAD TARGET: FPS Zombie Apocalypse Survival Games': 1, 'Wells Fargo Daily Change': 1, 'Dog Run - Pet Dog Simulator': 2, 'SHOWTIME': 1, 'Google Pay': 3, 'FIFA - Tournaments, Soccer News & Live Scores': 1, 'Gmail': 2, 'Houzz Interior Design Ideas': 3, 'Amino: Communities and Chats': 1, 'Airbnb': 1, 'Mortgage by Zillow: Calculator & Rates': 1, 'Microsoft PowerPoint': 1, 'My Class Schedule: Timetable': 1, 'Disney Magic Kingdoms: Build Your Own Magical Park': 1, \"Game for KIDS: KIDS match'em\": 1, 'Grubhub: Food Delivery': 1, 'FilterGrid - Cam&Photo Editor': 1, 'Toy Blast': 1, 'Agar.io': 1, 'Microsoft Outlook': 1, 'BBW Dating & Curvy Singles Chat- LargeFriends': 1, 'Web Browser for Android': 1, 'Barbie™ Fashion Closet': 1, 'Motorola FM Radio': 1, 'Casual Dating & Adult Singles - Joyride': 1, 'Box': 2, 'Endomondo - Running & Walking': 1, 'LinkedIn': 1, 'Ringtone Maker': 1, 'DisneyNOW – TV Shows & Games': 2, 'Mango Languages: Lovable Language Courses': 1, 'join.me - Simple Meetings': 2, 'Bowmasters': 5, '21-Day Meditation Experience': 1, 'Google': 1, 'Free Dating & Flirt Chat - Choice of Love': 1, 'Khan Academy': 2, 'Microsoft Word': 2, 'Runtastic Running App & Mile Tracker': 2, 'Vaniday - Beauty Booking App': 1, 'Hulu: Stream TV, Movies & more': 3, 'Sago Mini Babies': 1, 'Airway Ex - Intubate. Anesthetize. Train.': 1, 'Priceline Hotel Deals, Rental Cars & Flights': 2, '2017 EMRA Antibiotic Guide': 1, 'Polaris Office - Word, Docs, Sheets, Slide, PDF': 1, 'Gay Sugar Daddy Dating & Hookup – Sudy Gay': 1, 'Fast Scanner : Free PDF Scan': 1, 'United Airlines': 1, 'Google Classroom': 2, 'Shopkins World!': 1, 'Period Tracker': 1, 'Minion Rush: Despicable Me Official Game': 3, 'Sway Medical': 1, 'PUBG MOBILE': 3, 'Toca Kitchen 2': 2, '10 Best Foods for You': 1, 'Google Photos': 3, 'Quizlet: Learn Languages & Vocab with Flashcards': 3, 'Dating App, Flirt & Chat : W-Match': 1, 'Hopper - Watch & Book Flights': 1, 'Google Sheets': 1, \"Dr. Panda & Toto's Treehouse\": 2, 'Udacity - Lifelong Learning': 1, 'Block Puzzle': 3, 'Univision NOW - Live TV and On Demand': 1, 'PBS KIDS Video': 1, 'MEGA': 1, 'Google Ads': 2, 'Millionaire Match: Rich Singles Dating App': 1, 'Facebook': 1, 'StyleSeat': 1, 'My Little Pony Celebration': 1, 'CallApp: Caller ID, Blocker & Phone Call Recorder': 1, 'Monster Truck Driver & Racing': 1, 'Manga AZ - Manga Comic Reader': 1, 'Calorie Counter - Macros': 1, 'Honkai Impact 3rd': 1, 'Masha and the Bear Child Games': 1, 'Newegg Mobile': 1, 'US Open Tennis Championships 2018': 1, 'Expedia Hotels, Flights & Car Rental Travel Deals': 3, 'BuzzFeed: News, Tasty, Quizzes': 1, 'Fancy': 2, 'Yahoo Sports - scores, stats, news, & highlights': 2, 'The 5th Stand': 1, 'Hospitalist Handbook': 1, 'Calorie Counter & Diet Tracker': 1, 'ABC News - US & World News': 1, 'Instagram': 3, 'AAFP': 1, 'Super ABC! Learning games for kids! Preschool apps': 1, 'Camera360 Lite - Selfie Camera': 1, 'Blood Pressure': 2, 'imo beta free calls and text': 1, 'Mapy.cz - Cycling & Hiking offline maps': 1, 'Lifetime - Watch Full Episodes & Original Movies': 2, 'Credit Karma': 2, 'Video Editor': 2, 'Adobe Acrobat Reader': 2, 'Lynda - Online Training Videos': 1, 'textPlus: Free Text & Calls': 1, 'TurboScan: scan documents and receipts in PDF': 1, 'DRAGON BALL LEGENDS': 3, 'Free phone calls, free texting SMS on free number': 1, 'NPR News': 1, 'Google Chrome: Fast & Secure': 2, 'Postmates Food Delivery: Order Eats & Alcohol': 1, 'Zoosk Dating App: Meet Singles': 1, 'H&M': 1, 'Poshmark - Buy & Sell Fashion': 1, \"McDonald's\": 1, 'Docs To Go™ Free Office Suite': 1, 'busuu: Learn Languages - Spanish, English & More': 3, 'Hungry Shark World': 1, 'Evernote – Organizer, Planner for Notes & Memos': 3, 'PayPal': 1, 'Inside Out Thought Bubbles': 1, 'Pou': 3, 'Nike+ Run Club': 3, 'YouTube Kids': 3, 'Muscle Premium - Human Anatomy, Kinesiology, Bones': 1, 'Pedi STAT': 1, 'Google My Business': 2, 'Diabetes & Diet Tracker': 1, 'My Talking Angela': 3, 'HelloTalk — Chat, Speak & Learn Foreign Languages': 1, 'Firefox Focus: The privacy browser': 2, 'Fitbit Coach': 1, 'Meet4U - Chat, Love, Singles!': 1, 'ES File Explorer File Manager': 2, 'Final Fantasy XV: A New Empire': 1, 'Google Play Games': 1, 'AC - Tips & News for Android™': 1, 'Hotels.com: Book Hotel Rooms & Find Vacation Deals': 1, 'Racing in Car 2': 1, 'Transit: Real-Time Transit App': 1, 'Google Analytics': 1, 'Messenger – Text and Video Chat for Free': 2, 'Fishdom': 2, 'EMT Review Plus': 1, 'Hily: Dating, Chat, Match, Meet & Hook up': 2, 'Homescapes': 1, 'YouTube Studio': 1, 'Flipboard: News For Our Time': 2, '1800 Contacts - Lens Store': 1, 'Brilliant': 1, 'MailChimp - Email, Marketing Automation': 1, 'Google Allo': 2, 'MouseMingle': 1, 'OfficeSuite : Free Office + PDF Editor': 1, 'Couple - Relationship App': 1, 'DreamWorks Friends': 1, 'Nextdoor - Local neighborhood news & classifieds': 1, 'MARVEL Contest of Champions': 1, 'Zenefits': 1, 'CNN Breaking US & World News': 2, 'Walk with Map My Walk': 1, 'Equestria Girls': 2, 'Essential Anatomy 3': 1, 'Cooking Fever': 1, 'Metal Soldiers 2': 1, 'Skyscanner': 4, 'My Talking Tom': 2, 'Opera Browser: Fast and Secure': 2, 'A&E - Watch Full Episodes of TV Shows': 3, 'Idle Heroes': 1, 'Newsroom: News Worth Sharing': 1, 'Mint: Budget, Bills, Finance': 2, 'Hello Kitty Nail Salon': 1, 'Zara': 1, 'SHAREit - Transfer & Share': 1, 'Meet24 - Love, Chat, Singles': 1, 'Talking Tom Gold Run': 3, '8fit Workouts & Meal Planner': 1, 'ROBLOX': 8, 'osmino Wi-Fi: free WiFi': 1, 'Run with Map My Run': 2, 'Google Voice': 2, 'Sago Mini Friends': 2, 'Simple - Better Banking': 1, 'Nighty Night Circus': 1, 'Adobe Photoshop Express:Photo Editor Collage Maker': 1, 'Comedy Central': 1, '8 Ball Pool': 6, 'Mobile Doc Scanner (MDScan) Lite': 1, 'Facebook Pages Manager': 1, 'Z Camera - Photo Editor, Beauty Selfie, Collage': 1, 'Accounting App - Zoho Books': 1, 'Wells Fargo Mobile': 1, 'Zello PTT Walkie Talkie': 1, 'Geometry Dash World': 1, 'O-Star': 2, 'Shopular: Coupons, Weekly Ads & Shopping Deals': 1, 'IMDb Movies & TV': 2, 'Firefox Browser fast & private': 2, 'Learn C++': 1, 'Money Lover: Expense Tracker, Budget Planner': 1, 'Relax Melodies: Sleep Sounds': 1, 'Nike Training Club - Workouts & Fitness Plans': 2, 'LINE WEBTOON - Free Comics': 1, 'Moco+ - Chat, Meet People': 1, 'Moco - Chat, Meet People': 2, 'Movies by Flixster, with Rotten Tomatoes': 2, 'WPS Office - Word, Docs, PDF, Note, Slide & Sheet': 1, 'Dream League Soccer 2018': 2, 'LEGO® TV': 1, 'Apartments & Rentals - Zillow': 1, 'Fandango Movies - Times + Tickets': 1, 'Microsoft OneNote': 2, 'Trulia Rent Apartments & Homes': 1, 'Adult Dirty Emojis': 2, 'Chictopia': 1, 'IBM Micromedex Drug Info': 1, 'Fuzzy Numbers: Pre-K Number Foundation': 1, 'Kick the Buddy': 3, 'EliteSingles – Dating for Single Professionals': 1, 'ESPN': 6, 'Coursera: Online courses': 1, 'edX - Online Courses by Harvard, MIT & more': 1, 'WWE': 1, 'CppDroid - C/C++ IDE': 1, 'DEER HUNTER 2018': 1, 'HD Widgets': 1, 'Solitaire': 2, 'GO Keyboard - Emoticon keyboard, Free Theme, GIF': 1, 'Clover Dating App': 1, 'Color by Number – New Coloring Book': 1, 'Golfshot: Golf GPS + Tee Times': 1, 'Coloring book moana': 1, 'TED': 3, 'Amazon Shopping': 2, 'Wattpad 📖 Free Books': 1, 'SONIC Drive-In': 1, 'Maps - Navigate & Explore': 2, 'Groupon - Shop Deals, Discounts & Coupons': 3, 'Phogy, 3D Camera': 1, 'Beautiful Widgets Free': 1, 'Cardiac diagnosis (heart rate, arrhythmia)': 2, 'Fabulous: Motivate Me! Meditate, Relax, Sleep': 1, 'CM Flashlight (Compass, SOS)': 1, 'Android Messages': 1, 'Blendr - Chat, Flirt & Meet': 1, 'Photo Editor': 1, 'letgo: Buy & Sell Used Stuff, Cars & Real Estate': 1, \"Domino's Pizza USA\": 1, 'Flickr': 1, 'Blood Pressure Log - MyDiary': 1, 'Hot or Not - Find someone right now': 2, 'Mobi Calculator free & AD free!': 1, 'Flipp - Weekly Shopping': 1, 'English Dictionary - Offline': 1, 'Meetup': 3, 'HipChat - Chat Built for Teams': 1, 'Twitter': 2, 'Dude Perfect 2': 1, 'Miraculous Ladybug & Cat Noir - The Official Game': 2, 'Snapchat': 3, 'Slickdeals: Coupons & Shopping': 2, 'UC Browser Mini -Tiny Fast Private & Secure': 2, 'DU Browser—Browse fast & fun': 1, 'Ebook Reader': 1, 'PTA Content Master': 1, 'Earn to Die 2': 1, 'Jetpack Joyride': 1, 'TickTick: To Do List with Reminder, Day Planner': 1, 'Open Camera': 2, 'Shutterfly: Free Prints, Photo Books, Cards, Gifts': 3, 'Yahoo Mail – Stay Organized': 2, 'RULES OF SURVIVAL': 1, 'Photo Editor-': 1, 'Sonic Dash': 1, 'The Wall Street Journal: Business & Market News': 1, 'SUBWAY®': 1, 'Brit + Co': 1, 'Merge Dragons!': 1, 'CBS Sports Fantasy': 1, 'Google Calendar': 2, 'TripAdvisor Hotels Flights Restaurants Attractions': 4, 'Camera for Android': 2, 'Calorie Counter - MyNetDiary': 1, 'Choices: Stories You Play': 1, 'Apartments.com Rental Search': 1, 'UC Browser - Fast Download Private & Secure': 2, 'UFC': 1, 'Microsoft Edge': 1, 'Princess Coloring Book': 1, 'Blur Image Background': 1, 'DC Super Hero Girls™': 3, 'Traffic Racer': 1, 'CW Seed': 1, 'High Blood Pressure Symptoms': 1, 'ooVoo Video Calls, Messaging & Stories': 1, 'stranger chat - anonymous chat': 1, 'Chispa, the Dating App for Latino, Latina Singles': 1, 'Skype - free IM & video calls': 2, 'MealLogger-Photo Food Journal': 1, 'Edmodo': 1, 'Panera Bread': 1, 'Google Docs': 2, 'YouCam Perfect - Selfie Photo Editor': 2, 'iPair-Meet, Chat, Dating': 1, 'Topbuzz: Breaking News, Videos & Funny GIFs': 1, 'Monash Uni Low FODMAP Diet': 1, \"Alto's Adventure\": 1, 'Pocket Yoga': 1, 'Maps & GPS Navigation — OsmAnd': 1, 'YouCam Makeup - Magic Selfie Makeovers': 1, 'FOX NOW - On Demand & Live TV': 2, 'Frozen Free Fall': 2, 'Hill Climb Racing': 3, 'Duolingo: Learn Languages Free': 6, 'theScore: Live Sports Scores, News, Stats & Videos': 4, 'Random Video Chat': 1, 'JOANN - Crafts & Coupons': 1, 'Tee and Mo Bath Time Free': 1, 'Workout Trainer: fitness coach': 1, 'Angry Birds Rio': 3, 'Twitch: Livestream Multiplayer Games & Esports': 1, 'Animal Jam - Play Wild!': 1, 'QR Scanner & Barcode Scanner 2018': 1, 'Learn languages, grammar & vocabulary with Memrise': 3, 'CJmall': 1, 'Fantasy Football': 1, 'Weather by eltiempo.es': 1, 'Opera Mini - fast web browser': 2, 'Lose It! - Calorie Counter': 2, 'Tagged - Meet, Chat & Dating': 1, 'Messages, Text and Video Chat for Messenger': 1, 'Anthem BC Anywhere': 1, 'Ovia Fertility Tracker & Ovulation Calculator': 1, 'SayHi Chat, Meet New People': 2, 'Ruler': 1, 'Haystack TV: Local & World News - Free': 1, 'Photo Editor Selfie Camera Filter & Mirror Image': 1, 'Girls Live Chat - Free Text & Video Chat': 1, 'Avokiddo Emotions': 1, 'Sniper 3D Gun Shooter: Free Shooting Games - FPS': 5, 'Moto File Manager': 1, 'ZALORA Fashion Shopping': 1, 'Clash Royale': 3, 'Peak – Brain Games & Training': 1, 'ASCCP Mobile': 1, 'MLB At Bat': 4, 'Simple Habit Meditation': 1, 'PMHNP-BC Pocket Prep': 1, 'FlirtChat - ♥Free Dating/Flirting App♥': 1, 'Beautiful Widgets Pro': 1, 'Home Security Camera WardenCam - reuse old phones': 1, 'CMB Free Dating App': 1, 'Southwest Airlines': 1, 'Pixel Art: Color by Number Game': 2, 'Swamp Attack': 1, 'Kids Balloon Pop Game Free 🎈': 1, 'Puffin Web Browser': 2, 'Nick': 5, 'Chat Rooms, Avatars, Date - Galaxy': 1, 'Magic Tiles 3': 3, 'HD Camera for Android': 1, 'Xero Accounting Software': 1, 'NYTimes - Latest News': 2, 'Google+': 1, 'Bita and the Animals - Pelos Ares': 1, 'Face Filter, Selfie Editor - Sweet Camera': 1, 'No Crop & Square for Instagram': 1, 'Calorie Counter by FatSecret': 1, 'CBS - Full Episodes & Live TV': 1, 'Quick PDF Scanner + OCR FREE': 2, 'Telegram': 2, 'Maricopa AH': 1, 'Extreme Coupon Finder': 2, 'Relax Meditation: Sleep with Sleep Sounds': 1, 'Sudy – Meet Elite & Rich Single': 1, 'KAYAK Flights, Hotels & Cars': 2, 'MoodSpace': 1, 'Live Talk - Free Text and Video Chat': 1, 'ClassDojo': 2, 'Knife Hit': 1, 'Zombie Tsunami': 4, 'Helix Jump': 5, 'EMT Tutor NREMT-B Study Guide': 1, 'All Football - Latest News & Videos': 1, 'BeautyPlus - Easy Photo Editor & Selfie Camera': 4, 'The Sims™ FreePlay': 1, 'To-Do Calendar Planner': 1, 'B612 - Beauty & Filter Camera': 2, 'Hostelworld: Hostels & Cheap Hotels Travel App': 1, 'Checkout 51: Grocery coupons': 2, 'Daily Manga - Comic & Webtoon': 1, 'Dairy Queen': 1, 'Google Street View': 1, 'wetter.com - Weather and Radar': 1, 'ASOS': 1, 'CBS Sports App - Scores, News, Stats & Watch Live': 7, 'Trulia Real Estate & Rentals': 1, 'Temple Run 2': 5, 'Who Viewed My Facebook Profile - Stalkers Visitors': 1, 'Waze - GPS, Maps, Traffic Alerts & Live Navigation': 1, 'Call Blocker': 1, 'Rider': 1, 'Bleacher Report: sports news, scores, & highlights': 5, 'Galaxy Attack: Alien Shooter': 2, 'Backgrounds HD (Wallpapers)': 1, 'LivingSocial - Local Deals': 2, 'Christian Dating For Free App': 1, 'Once - Quality Matches Every day': 1, 'Runtastic Sleep Better: Sleep Cycle & Smart Alarm': 1, 'trivago: Hotels & Travel': 2, 'Notepad & To do list': 1, 'Granny': 4, \"Modcloth – Unique Indie Women's Fashion & Style\": 1, 'Advanced Comprehension Therapy': 1, 'Socratic - Math Answers & Homework Help': 1}\n"
     ]
    }
   ],
   "source": [
    "duplicates_dict = {}\n",
    "\n",
    "for app in duplicates:\n",
    "    if app in duplicates_dict:\n",
    "        duplicates_dict[app] += 1\n",
    "    else:\n",
    "        duplicates_dict[app] = 1\n",
    "        \n",
    "print(duplicates_dict)"
   ]
  },
  {
   "cell_type": "markdown",
   "metadata": {},
   "source": [
    "The above dictionary shows us that the app 'Sniper 3D Gun Shooter: Free Shooting Games - FPS' is repeated 5 times, in addition to having appeared uniquely once. \n",
    "\n",
    "We'll now try and ascertain why this was repeated:"
   ]
  },
  {
   "cell_type": "code",
   "execution_count": 9,
   "metadata": {
    "collapsed": false
   },
   "outputs": [
    {
     "name": "stdout",
     "output_type": "stream",
     "text": [
      "['App', 'Category', 'Rating', 'Reviews', 'Size', 'Installs', 'Type', 'Price', 'Content Rating', 'Genres', 'Last Updated', 'Current Ver', 'Android Ver']\n",
      "\n",
      "\n",
      "['Sniper 3D Gun Shooter: Free Shooting Games - FPS', 'GAME', '4.6', '7671249', 'Varies with device', '100,000,000+', 'Free', '0', 'Mature 17+', 'Action', 'August 2, 2018', 'Varies with device', 'Varies with device']\n",
      "\n",
      "\n",
      "['Sniper 3D Gun Shooter: Free Shooting Games - FPS', 'GAME', '4.6', '7672495', 'Varies with device', '100,000,000+', 'Free', '0', 'Mature 17+', 'Action', 'August 2, 2018', 'Varies with device', 'Varies with device']\n",
      "\n",
      "\n",
      "['Sniper 3D Gun Shooter: Free Shooting Games - FPS', 'GAME', '4.6', '7672495', 'Varies with device', '100,000,000+', 'Free', '0', 'Mature 17+', 'Action', 'August 2, 2018', 'Varies with device', 'Varies with device']\n",
      "\n",
      "\n",
      "['Sniper 3D Gun Shooter: Free Shooting Games - FPS', 'GAME', '4.6', '7674252', 'Varies with device', '100,000,000+', 'Free', '0', 'Mature 17+', 'Action', 'August 2, 2018', 'Varies with device', 'Varies with device']\n",
      "\n",
      "\n",
      "['Sniper 3D Gun Shooter: Free Shooting Games - FPS', 'GAME', '4.6', '7674252', 'Varies with device', '100,000,000+', 'Free', '0', 'Mature 17+', 'Action', 'August 2, 2018', 'Varies with device', 'Varies with device']\n",
      "\n",
      "\n",
      "['Sniper 3D Gun Shooter: Free Shooting Games - FPS', 'GAME', '4.6', '7657490', 'Varies with device', '100,000,000+', 'Free', '0', 'Mature 17+', 'Action', 'August 2, 2018', 'Varies with device', 'Varies with device']\n",
      "\n",
      "\n"
     ]
    }
   ],
   "source": [
    "print(android_header)\n",
    "print('\\n')\n",
    "for app in android:\n",
    "    if app[0] == 'Sniper 3D Gun Shooter: Free Shooting Games - FPS':\n",
    "        print(app)\n",
    "        print('\\n')\n"
   ]
  },
  {
   "cell_type": "markdown",
   "metadata": {},
   "source": [
    "Above we see that the only differences between the rows are the number of reviews in the 'Reviews' column.\n",
    "\n",
    "It looks like the different number of reviews is what caused the data to be repeated as another row. We can also conclude that the row with the highest amount of reviews was the most recently updated row.\n",
    "\n",
    "The way we're going to handle removing the duplicates is thus as such:\n",
    "Where the name of an app is repeated in multiple rows, only the row with the highest number of reviews will be kept. The rest will be discarded."
   ]
  },
  {
   "cell_type": "code",
   "execution_count": 10,
   "metadata": {
    "collapsed": false
   },
   "outputs": [
    {
     "name": "stdout",
     "output_type": "stream",
     "text": [
      "Expected number of rows after clearing duplicates:  9659\n",
      "Length of dictionary after removing duplicates and keeping max review values: 9659\n"
     ]
    }
   ],
   "source": [
    "reviews_max = {}\n",
    "\n",
    "for each in android:\n",
    "    name = each[0]\n",
    "    n_reviews = float(each[3])\n",
    "    if name in reviews_max and reviews_max[name] < n_reviews:\n",
    "        reviews_max[name] = n_reviews\n",
    "    if name not in reviews_max:\n",
    "         reviews_max[name] = n_reviews\n",
    "            \n",
    "            \n",
    "        \n",
    "print('Expected number of rows after clearing duplicates: ', len(android) - 1181)\n",
    "print('Length of dictionary after removing duplicates and keeping max review values:', len(reviews_max))\n",
    "\n",
    "\n"
   ]
  },
  {
   "cell_type": "code",
   "execution_count": 11,
   "metadata": {
    "collapsed": false,
    "scrolled": true
   },
   "outputs": [
    {
     "name": "stdout",
     "output_type": "stream",
     "text": [
      "['Photo Editor & Candy Camera & Grid & ScrapBook', 'ART_AND_DESIGN', '4.1', '159', '19M', '10,000+', 'Free', '0', 'Everyone', 'Art & Design', 'January 7, 2018', '1.0.0', '4.0.3 and up']\n",
      "\n",
      "\n",
      "['U Launcher Lite – FREE Live Cool Themes, Hide Apps', 'ART_AND_DESIGN', '4.7', '87510', '8.7M', '5,000,000+', 'Free', '0', 'Everyone', 'Art & Design', 'August 1, 2018', '1.2.4', '4.0.3 and up']\n",
      "\n",
      "\n",
      "Number of rows: 9659\n",
      "Number of columns: 13\n"
     ]
    }
   ],
   "source": [
    "android_clean = []\n",
    "already_added = []\n",
    "\n",
    "for app in android:\n",
    "    name = app[0]\n",
    "    n_reviews = float(app[3])\n",
    "    \n",
    "    if (reviews_max[name] == n_reviews) and (name not in already_added):\n",
    "        android_clean.append(app)\n",
    "        already_added.append(name) \n",
    "        \n",
    "explore_data(android_clean, 0, 2, True)        "
   ]
  },
  {
   "cell_type": "markdown",
   "metadata": {},
   "source": [
    "It looks like removal of duplicate values was succesful. Only the rows with the highest review values were kept. "
   ]
  },
  {
   "cell_type": "markdown",
   "metadata": {},
   "source": [
    "Now, we have to remove apps that use languages other than English, since our company only uses English apps.\n",
    "\n",
    "The numbers corresponding to the characters we commonly use in an English text are all in the range 0 to 127, according to the ASCII (American Standard Code for Information Interchange) system. Based on this number range, we can build a function that detects whether a character belongs to the set of common English characters or not. If the number is equal to or less than 127, then the character belongs to the set of common English characters.\n",
    "\n",
    "We'll start by writing a function that iterates over a string to detect if any non-English character is present:\n"
   ]
  },
  {
   "cell_type": "code",
   "execution_count": 12,
   "metadata": {
    "collapsed": false
   },
   "outputs": [
    {
     "name": "stdout",
     "output_type": "stream",
     "text": [
      "True\n",
      "False\n"
     ]
    }
   ],
   "source": [
    "def englishchars(string):\n",
    "    \n",
    "    for each in string:\n",
    "        if ord(each) > 127:\n",
    "            return False\n",
    "    return True\n",
    "        \n",
    "        \n",
    "print(englishchars('LinkedIn'))\n",
    "print(englishchars('爱奇艺PPS -《欢乐颂2》电视剧热播'))   "
   ]
  },
  {
   "cell_type": "markdown",
   "metadata": {},
   "source": [
    "However, some English apps also return a false value if they use certain emojis or special characters."
   ]
  },
  {
   "cell_type": "code",
   "execution_count": 13,
   "metadata": {
    "collapsed": false
   },
   "outputs": [
    {
     "name": "stdout",
     "output_type": "stream",
     "text": [
      "False\n",
      "False\n"
     ]
    }
   ],
   "source": [
    "print(englishchars('Docs To Go™ Free Office Suite'))\n",
    "print(englishchars('Instachat 😜'))"
   ]
  },
  {
   "cell_type": "code",
   "execution_count": 14,
   "metadata": {
    "collapsed": false
   },
   "outputs": [
    {
     "name": "stdout",
     "output_type": "stream",
     "text": [
      "False\n",
      "False\n",
      "8482\n",
      "128540\n"
     ]
    }
   ],
   "source": [
    "print(englishchars('Docs To Go™ Free Office Suite'))\n",
    "print(englishchars('Instachat 😜'))\n",
    "\n",
    "print(ord('™'))\n",
    "print(ord('😜'))\n"
   ]
  },
  {
   "cell_type": "markdown",
   "metadata": {},
   "source": [
    "To minimize the loss of important data from characters that fall well outside the ASCII range of 127, we'll only filter apps if they contain 4 or more such characters."
   ]
  },
  {
   "cell_type": "code",
   "execution_count": 15,
   "metadata": {
    "collapsed": false
   },
   "outputs": [
    {
     "name": "stdout",
     "output_type": "stream",
     "text": [
      "True\n",
      "True\n",
      "True\n",
      "False\n"
     ]
    }
   ],
   "source": [
    "def englishchars(string):\n",
    "    \n",
    "    count = 0\n",
    "    for each in string:\n",
    "        if ord(each) > 127:\n",
    "            count += 1\n",
    "            if count >= 4:\n",
    "                return False\n",
    "    return True\n",
    "\n",
    "print(englishchars('Instachat😜'))\n",
    "print(englishchars('Instachat😜😜'))\n",
    "print(englishchars('Instachat😜😜😜'))\n",
    "print(englishchars('Instachat😜😜😜😜'))"
   ]
  },
  {
   "cell_type": "markdown",
   "metadata": {},
   "source": [
    "This modified function now only returns a false value when there are 3 or more non-english characters. \n",
    "\n",
    "Now, we use this function to include only English apps from the above android_clean dataset."
   ]
  },
  {
   "cell_type": "code",
   "execution_count": 16,
   "metadata": {
    "collapsed": false
   },
   "outputs": [
    {
     "name": "stdout",
     "output_type": "stream",
     "text": [
      "9614\n",
      "45\n",
      "['Flame - درب عقلك يوميا', 'EDUCATION', '4.6', '56065', '37M', '1,000,000+', 'Free', '0', 'Everyone', 'Education', 'July 26, 2018', '3.3', '4.1 and up']\n",
      "\n",
      "\n",
      "['သိင်္ Astrology - Min Thein Kha BayDin', 'LIFESTYLE', '4.7', '2225', '15M', '100,000+', 'Free', '0', 'Everyone', 'Lifestyle', 'July 26, 2018', '4.2.1', '4.0.3 and up']\n",
      "\n",
      "\n",
      "['РИА Новости', 'NEWS_AND_MAGAZINES', '4.5', '44274', '8.0M', '1,000,000+', 'Free', '0', 'Everyone', 'News & Magazines', 'August 6, 2018', '4.0.6', '4.4 and up']\n",
      "\n",
      "\n",
      "['صور حرف H', 'ART_AND_DESIGN', '4.4', '13', '4.5M', '1,000+', 'Free', '0', 'Everyone', 'Art & Design', 'March 27, 2018', '2.0', '4.0.3 and up']\n",
      "\n",
      "\n",
      "['L.POINT - 엘포인트 [ 포인트, 멤버십, 적립, 사용, 모바일 카드, 쿠폰, 롯데]', 'LIFESTYLE', '4.0', '45224', '49M', '5,000,000+', 'Free', '0', 'Everyone', 'Lifestyle', 'August 1, 2018', '6.5.1', '4.1 and up']\n",
      "\n",
      "\n",
      "Number of rows: 45\n",
      "Number of columns: 13\n"
     ]
    }
   ],
   "source": [
    "android_english_clean = []\n",
    "android_non_eng = []\n",
    "\n",
    "for each in android_clean:\n",
    "    name = each[0]\n",
    "    if englishchars(name) == True:\n",
    "        android_english_clean.append(each)\n",
    "    else:\n",
    "        android_non_eng.append(each)\n",
    "        \n",
    "print(len(android_english_clean))\n",
    "print(len(android_non_eng))\n",
    "\n",
    "explore_data(android_non_eng, 0, 5, True)   "
   ]
  },
  {
   "cell_type": "markdown",
   "metadata": {},
   "source": [
    "We see above that most of the apps that were discarded do indeed seem to be non-english apps.\n",
    "\n",
    "Now we do the same for ios apps."
   ]
  },
  {
   "cell_type": "code",
   "execution_count": 18,
   "metadata": {
    "collapsed": false
   },
   "outputs": [
    {
     "name": "stdout",
     "output_type": "stream",
     "text": [
      "6183\n",
      "1014\n",
      "['445375097', '爱奇艺PPS -《欢乐颂2》电视剧热播', '224617472', 'USD', '0.0', '14844', '0', '4.0', '0.0', '6.3.3', '17+', 'Entertainment', '38', '5', '3', '1']\n",
      "\n",
      "\n",
      "['405667771', '聚力视频HD-人民的名义,跨界歌王全网热播', '90725376', 'USD', '0.0', '7446', '8', '4.0', '4.5', '5.0.8', '12+', 'Entertainment', '24', '4', '1', '1']\n",
      "\n",
      "\n",
      "Number of rows: 1014\n",
      "Number of columns: 16\n"
     ]
    }
   ],
   "source": [
    "ios_eng = []\n",
    "ios_non_eng = []\n",
    "\n",
    "for each in ios:\n",
    "    name = each[1]\n",
    "    if englishchars(name) == True:\n",
    "        ios_eng.append(each)\n",
    "    else:\n",
    "        ios_non_eng.append(each)\n",
    "        \n",
    "print(len(ios_eng))\n",
    "print(len(ios_non_eng))\n",
    "\n",
    "explore_data(ios_non_eng, 0, 2, True) "
   ]
  },
  {
   "cell_type": "code",
   "execution_count": 24,
   "metadata": {
    "collapsed": false
   },
   "outputs": [
    {
     "name": "stdout",
     "output_type": "stream",
     "text": [
      "['id', 'track_name', 'size_bytes', 'currency', 'price', 'rating_count_tot', 'rating_count_ver', 'user_rating', 'user_rating_ver', 'ver', 'cont_rating', 'prime_genre', 'sup_devices.num', 'ipadSc_urls.num', 'lang.num', 'vpp_lic']\n",
      "['App', 'Category', 'Rating', 'Reviews', 'Size', 'Installs', 'Type', 'Price', 'Content Rating', 'Genres', 'Last Updated', 'Current Ver', 'Android Ver']\n",
      "\n",
      "\n",
      "4\n",
      "7\n"
     ]
    }
   ],
   "source": [
    "print(ios_header)\n",
    "print(android_header)\n",
    "print('\\n')\n",
    "print(ios_header.index('price'))\n",
    "print(android_header.index('Price'))"
   ]
  },
  {
   "cell_type": "markdown",
   "metadata": {},
   "source": [
    "From the above lists, we recall that the price index for ios apps is 4, and price index for google play apps is 7."
   ]
  },
  {
   "cell_type": "code",
   "execution_count": 29,
   "metadata": {
    "collapsed": false
   },
   "outputs": [
    {
     "name": "stdout",
     "output_type": "stream",
     "text": [
      "3222\n",
      "8864\n"
     ]
    }
   ],
   "source": [
    "android_free = []\n",
    "\n",
    "for each in android_english_clean:\n",
    "    price = each[7]\n",
    "    if price == '0':\n",
    "        android_free.append(each)\n",
    "    \n",
    "ios_free = []\n",
    "    \n",
    "for each in ios_eng:\n",
    "    price = each[4]\n",
    "    if price == '0.0':\n",
    "        ios_free.append(each)\n",
    "        \n",
    "print(len(ios_free))\n",
    "print(len(android_free))"
   ]
  },
  {
   "cell_type": "markdown",
   "metadata": {},
   "source": [
    "After the clean-up processes, we arrive at our final datasets, android_free and ios_free.\n",
    "\n",
    "android_free has 8864 rows, and ios_free has 3222 rows. We thus move on to data analysis of these cleaned up datasets."
   ]
  },
  {
   "cell_type": "markdown",
   "metadata": {},
   "source": [
    "# Data Analysis"
   ]
  },
  {
   "cell_type": "markdown",
   "metadata": {},
   "source": [
    "To reiterate the goal of our company, since our revenue is based off advertisements that are found in-app, our revune is strongly determined by app popularity. \n",
    "\n",
    "Our validation strategy for app ideas usually comprises these 3 steps:\n",
    "1) Build a minimalistic Android version of the app and add it on Google Play\n",
    "2) If the app is well-received, develop it further.\n",
    "3) If the app remains profitable after 6 months, we build an iOS version and add it to the App Store as well.\n",
    "\n",
    "Since our end goal is to have our apps up on both markets, we want to be looking at other apps that are likewise successful in these two markets. \n",
    "\n",
    "First, we'll go about looking at the frequencies of the genre of each app. Mainly, we'll consider the prime_genre column of the App Store data set, and the Genres and Category columns of the Google Play data set."
   ]
  },
  {
   "cell_type": "code",
   "execution_count": 38,
   "metadata": {
    "collapsed": false
   },
   "outputs": [
    {
     "name": "stdout",
     "output_type": "stream",
     "text": [
      "Games : 58.16263190564867\n",
      "Entertainment : 7.883302296710118\n",
      "Photo & Video : 4.9658597144630665\n",
      "Education : 3.662321539416512\n",
      "Social Networking : 3.2898820608317814\n",
      "Shopping : 2.60707635009311\n",
      "Utilities : 2.5139664804469275\n",
      "Sports : 2.1415270018621975\n",
      "Music : 2.0484171322160147\n",
      "Health & Fitness : 2.0173805090006205\n",
      "Productivity : 1.7380509000620732\n",
      "Lifestyle : 1.5828677839851024\n",
      "News : 1.3345747982619491\n",
      "Travel : 1.2414649286157666\n",
      "Finance : 1.1173184357541899\n",
      "Weather : 0.8690254500310366\n",
      "Food & Drink : 0.8069522036002483\n",
      "Reference : 0.5586592178770949\n",
      "Business : 0.5276225946617008\n",
      "Book : 0.4345127250155183\n",
      "Navigation : 0.186219739292365\n",
      "Medical : 0.186219739292365\n",
      "Catalogs : 0.12414649286157665\n",
      "\n",
      "\n",
      "Tools : 8.449909747292418\n",
      "Entertainment : 6.069494584837545\n",
      "Education : 5.347472924187725\n",
      "Business : 4.591606498194946\n",
      "Productivity : 3.892148014440433\n",
      "Lifestyle : 3.892148014440433\n",
      "Finance : 3.7003610108303246\n",
      "Medical : 3.531137184115524\n",
      "Sports : 3.463447653429603\n",
      "Personalization : 3.3167870036101084\n",
      "Communication : 3.2378158844765346\n",
      "Action : 3.1024368231046933\n",
      "Health & Fitness : 3.0798736462093865\n",
      "Photography : 2.944494584837545\n",
      "News & Magazines : 2.7978339350180503\n",
      "Social : 2.6624548736462095\n",
      "Travel & Local : 2.3240072202166067\n",
      "Shopping : 2.2450361010830324\n",
      "Books & Reference : 2.1435018050541514\n",
      "Simulation : 2.0419675090252705\n",
      "Dating : 1.861462093862816\n",
      "Arcade : 1.8501805054151623\n",
      "Video Players & Editors : 1.7712093862815883\n",
      "Casual : 1.7599277978339352\n",
      "Maps & Navigation : 1.3989169675090252\n",
      "Food & Drink : 1.2409747292418771\n",
      "Puzzle : 1.128158844765343\n",
      "Racing : 0.9927797833935018\n",
      "Role Playing : 0.9363718411552346\n",
      "Libraries & Demo : 0.9363718411552346\n",
      "Auto & Vehicles : 0.9250902527075812\n",
      "Strategy : 0.9138086642599278\n",
      "House & Home : 0.8235559566787004\n",
      "Weather : 0.8009927797833934\n",
      "Events : 0.7107400722021661\n",
      "Adventure : 0.6768953068592057\n",
      "Comics : 0.6092057761732852\n",
      "Beauty : 0.5979241877256317\n",
      "Art & Design : 0.5979241877256317\n",
      "Parenting : 0.4963898916967509\n",
      "Card : 0.45126353790613716\n",
      "Casino : 0.42870036101083037\n",
      "Trivia : 0.41741877256317694\n",
      "Educational;Education : 0.39485559566787\n",
      "Board : 0.3835740072202166\n",
      "Educational : 0.3722924187725632\n",
      "Education;Education : 0.33844765342960287\n",
      "Word : 0.2594765342960289\n",
      "Casual;Pretend Play : 0.236913357400722\n",
      "Music : 0.2030685920577617\n",
      "Racing;Action & Adventure : 0.16922382671480143\n",
      "Puzzle;Brain Games : 0.16922382671480143\n",
      "Entertainment;Music & Video : 0.16922382671480143\n",
      "Casual;Brain Games : 0.13537906137184114\n",
      "Casual;Action & Adventure : 0.13537906137184114\n",
      "Arcade;Action & Adventure : 0.12409747292418773\n",
      "Action;Action & Adventure : 0.10153429602888085\n",
      "Educational;Pretend Play : 0.09025270758122744\n",
      "Simulation;Action & Adventure : 0.078971119133574\n",
      "Parenting;Education : 0.078971119133574\n",
      "Entertainment;Brain Games : 0.078971119133574\n",
      "Board;Brain Games : 0.078971119133574\n",
      "Parenting;Music & Video : 0.06768953068592057\n",
      "Educational;Brain Games : 0.06768953068592057\n",
      "Casual;Creativity : 0.06768953068592057\n",
      "Art & Design;Creativity : 0.06768953068592057\n",
      "Education;Pretend Play : 0.056407942238267145\n",
      "Role Playing;Pretend Play : 0.04512635379061372\n",
      "Education;Creativity : 0.04512635379061372\n",
      "Role Playing;Action & Adventure : 0.033844765342960284\n",
      "Puzzle;Action & Adventure : 0.033844765342960284\n",
      "Entertainment;Creativity : 0.033844765342960284\n",
      "Entertainment;Action & Adventure : 0.033844765342960284\n",
      "Educational;Creativity : 0.033844765342960284\n",
      "Educational;Action & Adventure : 0.033844765342960284\n",
      "Education;Music & Video : 0.033844765342960284\n",
      "Education;Brain Games : 0.033844765342960284\n",
      "Education;Action & Adventure : 0.033844765342960284\n",
      "Adventure;Action & Adventure : 0.033844765342960284\n",
      "Video Players & Editors;Music & Video : 0.02256317689530686\n",
      "Sports;Action & Adventure : 0.02256317689530686\n",
      "Simulation;Pretend Play : 0.02256317689530686\n",
      "Puzzle;Creativity : 0.02256317689530686\n",
      "Music;Music & Video : 0.02256317689530686\n",
      "Entertainment;Pretend Play : 0.02256317689530686\n",
      "Casual;Education : 0.02256317689530686\n",
      "Board;Action & Adventure : 0.02256317689530686\n",
      "Video Players & Editors;Creativity : 0.01128158844765343\n",
      "Trivia;Education : 0.01128158844765343\n",
      "Travel & Local;Action & Adventure : 0.01128158844765343\n",
      "Tools;Education : 0.01128158844765343\n",
      "Strategy;Education : 0.01128158844765343\n",
      "Strategy;Creativity : 0.01128158844765343\n",
      "Strategy;Action & Adventure : 0.01128158844765343\n",
      "Simulation;Education : 0.01128158844765343\n",
      "Role Playing;Brain Games : 0.01128158844765343\n",
      "Racing;Pretend Play : 0.01128158844765343\n",
      "Puzzle;Education : 0.01128158844765343\n",
      "Parenting;Brain Games : 0.01128158844765343\n",
      "Music & Audio;Music & Video : 0.01128158844765343\n",
      "Lifestyle;Pretend Play : 0.01128158844765343\n",
      "Lifestyle;Education : 0.01128158844765343\n",
      "Health & Fitness;Education : 0.01128158844765343\n",
      "Health & Fitness;Action & Adventure : 0.01128158844765343\n",
      "Entertainment;Education : 0.01128158844765343\n",
      "Communication;Creativity : 0.01128158844765343\n",
      "Comics;Creativity : 0.01128158844765343\n",
      "Casual;Music & Video : 0.01128158844765343\n",
      "Card;Action & Adventure : 0.01128158844765343\n",
      "Books & Reference;Education : 0.01128158844765343\n",
      "Art & Design;Pretend Play : 0.01128158844765343\n",
      "Art & Design;Action & Adventure : 0.01128158844765343\n",
      "Arcade;Pretend Play : 0.01128158844765343\n",
      "Adventure;Education : 0.01128158844765343\n",
      "\n",
      "\n",
      "FAMILY : 18.907942238267147\n",
      "GAME : 9.724729241877256\n",
      "TOOLS : 8.461191335740072\n",
      "BUSINESS : 4.591606498194946\n",
      "LIFESTYLE : 3.9034296028880866\n",
      "PRODUCTIVITY : 3.892148014440433\n",
      "FINANCE : 3.7003610108303246\n",
      "MEDICAL : 3.531137184115524\n",
      "SPORTS : 3.395758122743682\n",
      "PERSONALIZATION : 3.3167870036101084\n",
      "COMMUNICATION : 3.2378158844765346\n",
      "HEALTH_AND_FITNESS : 3.0798736462093865\n",
      "PHOTOGRAPHY : 2.944494584837545\n",
      "NEWS_AND_MAGAZINES : 2.7978339350180503\n",
      "SOCIAL : 2.6624548736462095\n",
      "TRAVEL_AND_LOCAL : 2.33528880866426\n",
      "SHOPPING : 2.2450361010830324\n",
      "BOOKS_AND_REFERENCE : 2.1435018050541514\n",
      "DATING : 1.861462093862816\n",
      "VIDEO_PLAYERS : 1.7937725631768955\n",
      "MAPS_AND_NAVIGATION : 1.3989169675090252\n",
      "FOOD_AND_DRINK : 1.2409747292418771\n",
      "EDUCATION : 1.1620036101083033\n",
      "ENTERTAINMENT : 0.9589350180505415\n",
      "LIBRARIES_AND_DEMO : 0.9363718411552346\n",
      "AUTO_AND_VEHICLES : 0.9250902527075812\n",
      "HOUSE_AND_HOME : 0.8235559566787004\n",
      "WEATHER : 0.8009927797833934\n",
      "EVENTS : 0.7107400722021661\n",
      "PARENTING : 0.6543321299638989\n",
      "ART_AND_DESIGN : 0.6430505415162455\n",
      "COMICS : 0.6204873646209386\n",
      "BEAUTY : 0.5979241877256317\n"
     ]
    }
   ],
   "source": [
    "def freq_table(dataset, index):\n",
    "    dict = {}\n",
    "    total_amt = 0\n",
    "    for each in dataset:\n",
    "        total_amt += 1\n",
    "        column = each[index]\n",
    "        if column in dict:\n",
    "            dict[column] += 1\n",
    "        else:\n",
    "            dict[column] = 1\n",
    "            \n",
    "    percentages = {}\n",
    "    for key in dict:\n",
    "        percentage = (dict[key] / total_amt) * 100\n",
    "        percentages[key] = percentage \n",
    "    \n",
    "    return percentages\n",
    "  \n",
    "    \n",
    "def display_table(dataset, index):\n",
    "    table = freq_table(dataset, index)\n",
    "    table_display = []\n",
    "    for key in table:\n",
    "        key_val_as_tuple = (table[key], key)\n",
    "        table_display.append(key_val_as_tuple)\n",
    "\n",
    "    table_sorted = sorted(table_display, reverse = True)\n",
    "    for entry in table_sorted:\n",
    "        print(entry[1], ':', entry[0])\n",
    "        \n",
    "display_table(ios_free, -5)\n",
    "print('\\n')\n",
    "display_table(android_free, 9)\n",
    "print('\\n')\n",
    "display_table(android_free, 1)\n",
    "\n"
   ]
  },
  {
   "cell_type": "markdown",
   "metadata": {},
   "source": [
    "Above, we see tables expressing the popularity of each category or genre as a percentage value of the total apps on the store.\n",
    "\n",
    "In particular, let's take a closer look at the prime_genre column of the App Store data set."
   ]
  },
  {
   "cell_type": "code",
   "execution_count": 39,
   "metadata": {
    "collapsed": false
   },
   "outputs": [
    {
     "name": "stdout",
     "output_type": "stream",
     "text": [
      "Games : 58.16263190564867\n",
      "Entertainment : 7.883302296710118\n",
      "Photo & Video : 4.9658597144630665\n",
      "Education : 3.662321539416512\n",
      "Social Networking : 3.2898820608317814\n",
      "Shopping : 2.60707635009311\n",
      "Utilities : 2.5139664804469275\n",
      "Sports : 2.1415270018621975\n",
      "Music : 2.0484171322160147\n",
      "Health & Fitness : 2.0173805090006205\n",
      "Productivity : 1.7380509000620732\n",
      "Lifestyle : 1.5828677839851024\n",
      "News : 1.3345747982619491\n",
      "Travel : 1.2414649286157666\n",
      "Finance : 1.1173184357541899\n",
      "Weather : 0.8690254500310366\n",
      "Food & Drink : 0.8069522036002483\n",
      "Reference : 0.5586592178770949\n",
      "Business : 0.5276225946617008\n",
      "Book : 0.4345127250155183\n",
      "Navigation : 0.186219739292365\n",
      "Medical : 0.186219739292365\n",
      "Catalogs : 0.12414649286157665\n"
     ]
    }
   ],
   "source": [
    "display_table(ios_free, -5)"
   ]
  },
  {
   "cell_type": "markdown",
   "metadata": {},
   "source": [
    "We see that the 'Games' genre is the most popular one by a staggering margin of 58.1%. The next most popular genre is 'Entertainment' at 7.88%, which isn't that far ahead of the genres that follow it such as 'Photo & Video' and 'Education'.\n",
    "\n",
    "Meanwhile, apps that fall under the category of 'Finance' only constitute 1.12%, and apps that fall under 'Business' only constitute 0.53% of the total number of apps on the app store.\n",
    "\n",
    "One pattern that stands out here is that apps that are centered around entertainment are vastly more common than apps that serve some mundane but pragmatic purpose. \n",
    "\n",
    "However, one shouldn't be misled into thinking that the proportion of apps correlates to their popularity among users. It might just be that the entertainment app space is very saturated because the creation of apps in this genre is limited only by creativity."
   ]
  },
  {
   "cell_type": "markdown",
   "metadata": {},
   "source": [
    "Next, we look at the frequency tables generated for the 'Category' and 'Genres' column of the Google Play dataset more closely:"
   ]
  },
  {
   "cell_type": "code",
   "execution_count": 40,
   "metadata": {
    "collapsed": false
   },
   "outputs": [
    {
     "name": "stdout",
     "output_type": "stream",
     "text": [
      "Tools : 8.449909747292418\n",
      "Entertainment : 6.069494584837545\n",
      "Education : 5.347472924187725\n",
      "Business : 4.591606498194946\n",
      "Productivity : 3.892148014440433\n",
      "Lifestyle : 3.892148014440433\n",
      "Finance : 3.7003610108303246\n",
      "Medical : 3.531137184115524\n",
      "Sports : 3.463447653429603\n",
      "Personalization : 3.3167870036101084\n",
      "Communication : 3.2378158844765346\n",
      "Action : 3.1024368231046933\n",
      "Health & Fitness : 3.0798736462093865\n",
      "Photography : 2.944494584837545\n",
      "News & Magazines : 2.7978339350180503\n",
      "Social : 2.6624548736462095\n",
      "Travel & Local : 2.3240072202166067\n",
      "Shopping : 2.2450361010830324\n",
      "Books & Reference : 2.1435018050541514\n",
      "Simulation : 2.0419675090252705\n",
      "Dating : 1.861462093862816\n",
      "Arcade : 1.8501805054151623\n",
      "Video Players & Editors : 1.7712093862815883\n",
      "Casual : 1.7599277978339352\n",
      "Maps & Navigation : 1.3989169675090252\n",
      "Food & Drink : 1.2409747292418771\n",
      "Puzzle : 1.128158844765343\n",
      "Racing : 0.9927797833935018\n",
      "Role Playing : 0.9363718411552346\n",
      "Libraries & Demo : 0.9363718411552346\n",
      "Auto & Vehicles : 0.9250902527075812\n",
      "Strategy : 0.9138086642599278\n",
      "House & Home : 0.8235559566787004\n",
      "Weather : 0.8009927797833934\n",
      "Events : 0.7107400722021661\n",
      "Adventure : 0.6768953068592057\n",
      "Comics : 0.6092057761732852\n",
      "Beauty : 0.5979241877256317\n",
      "Art & Design : 0.5979241877256317\n",
      "Parenting : 0.4963898916967509\n",
      "Card : 0.45126353790613716\n",
      "Casino : 0.42870036101083037\n",
      "Trivia : 0.41741877256317694\n",
      "Educational;Education : 0.39485559566787\n",
      "Board : 0.3835740072202166\n",
      "Educational : 0.3722924187725632\n",
      "Education;Education : 0.33844765342960287\n",
      "Word : 0.2594765342960289\n",
      "Casual;Pretend Play : 0.236913357400722\n",
      "Music : 0.2030685920577617\n",
      "Racing;Action & Adventure : 0.16922382671480143\n",
      "Puzzle;Brain Games : 0.16922382671480143\n",
      "Entertainment;Music & Video : 0.16922382671480143\n",
      "Casual;Brain Games : 0.13537906137184114\n",
      "Casual;Action & Adventure : 0.13537906137184114\n",
      "Arcade;Action & Adventure : 0.12409747292418773\n",
      "Action;Action & Adventure : 0.10153429602888085\n",
      "Educational;Pretend Play : 0.09025270758122744\n",
      "Simulation;Action & Adventure : 0.078971119133574\n",
      "Parenting;Education : 0.078971119133574\n",
      "Entertainment;Brain Games : 0.078971119133574\n",
      "Board;Brain Games : 0.078971119133574\n",
      "Parenting;Music & Video : 0.06768953068592057\n",
      "Educational;Brain Games : 0.06768953068592057\n",
      "Casual;Creativity : 0.06768953068592057\n",
      "Art & Design;Creativity : 0.06768953068592057\n",
      "Education;Pretend Play : 0.056407942238267145\n",
      "Role Playing;Pretend Play : 0.04512635379061372\n",
      "Education;Creativity : 0.04512635379061372\n",
      "Role Playing;Action & Adventure : 0.033844765342960284\n",
      "Puzzle;Action & Adventure : 0.033844765342960284\n",
      "Entertainment;Creativity : 0.033844765342960284\n",
      "Entertainment;Action & Adventure : 0.033844765342960284\n",
      "Educational;Creativity : 0.033844765342960284\n",
      "Educational;Action & Adventure : 0.033844765342960284\n",
      "Education;Music & Video : 0.033844765342960284\n",
      "Education;Brain Games : 0.033844765342960284\n",
      "Education;Action & Adventure : 0.033844765342960284\n",
      "Adventure;Action & Adventure : 0.033844765342960284\n",
      "Video Players & Editors;Music & Video : 0.02256317689530686\n",
      "Sports;Action & Adventure : 0.02256317689530686\n",
      "Simulation;Pretend Play : 0.02256317689530686\n",
      "Puzzle;Creativity : 0.02256317689530686\n",
      "Music;Music & Video : 0.02256317689530686\n",
      "Entertainment;Pretend Play : 0.02256317689530686\n",
      "Casual;Education : 0.02256317689530686\n",
      "Board;Action & Adventure : 0.02256317689530686\n",
      "Video Players & Editors;Creativity : 0.01128158844765343\n",
      "Trivia;Education : 0.01128158844765343\n",
      "Travel & Local;Action & Adventure : 0.01128158844765343\n",
      "Tools;Education : 0.01128158844765343\n",
      "Strategy;Education : 0.01128158844765343\n",
      "Strategy;Creativity : 0.01128158844765343\n",
      "Strategy;Action & Adventure : 0.01128158844765343\n",
      "Simulation;Education : 0.01128158844765343\n",
      "Role Playing;Brain Games : 0.01128158844765343\n",
      "Racing;Pretend Play : 0.01128158844765343\n",
      "Puzzle;Education : 0.01128158844765343\n",
      "Parenting;Brain Games : 0.01128158844765343\n",
      "Music & Audio;Music & Video : 0.01128158844765343\n",
      "Lifestyle;Pretend Play : 0.01128158844765343\n",
      "Lifestyle;Education : 0.01128158844765343\n",
      "Health & Fitness;Education : 0.01128158844765343\n",
      "Health & Fitness;Action & Adventure : 0.01128158844765343\n",
      "Entertainment;Education : 0.01128158844765343\n",
      "Communication;Creativity : 0.01128158844765343\n",
      "Comics;Creativity : 0.01128158844765343\n",
      "Casual;Music & Video : 0.01128158844765343\n",
      "Card;Action & Adventure : 0.01128158844765343\n",
      "Books & Reference;Education : 0.01128158844765343\n",
      "Art & Design;Pretend Play : 0.01128158844765343\n",
      "Art & Design;Action & Adventure : 0.01128158844765343\n",
      "Arcade;Pretend Play : 0.01128158844765343\n",
      "Adventure;Education : 0.01128158844765343\n",
      "\n",
      "\n",
      "FAMILY : 18.907942238267147\n",
      "GAME : 9.724729241877256\n",
      "TOOLS : 8.461191335740072\n",
      "BUSINESS : 4.591606498194946\n",
      "LIFESTYLE : 3.9034296028880866\n",
      "PRODUCTIVITY : 3.892148014440433\n",
      "FINANCE : 3.7003610108303246\n",
      "MEDICAL : 3.531137184115524\n",
      "SPORTS : 3.395758122743682\n",
      "PERSONALIZATION : 3.3167870036101084\n",
      "COMMUNICATION : 3.2378158844765346\n",
      "HEALTH_AND_FITNESS : 3.0798736462093865\n",
      "PHOTOGRAPHY : 2.944494584837545\n",
      "NEWS_AND_MAGAZINES : 2.7978339350180503\n",
      "SOCIAL : 2.6624548736462095\n",
      "TRAVEL_AND_LOCAL : 2.33528880866426\n",
      "SHOPPING : 2.2450361010830324\n",
      "BOOKS_AND_REFERENCE : 2.1435018050541514\n",
      "DATING : 1.861462093862816\n",
      "VIDEO_PLAYERS : 1.7937725631768955\n",
      "MAPS_AND_NAVIGATION : 1.3989169675090252\n",
      "FOOD_AND_DRINK : 1.2409747292418771\n",
      "EDUCATION : 1.1620036101083033\n",
      "ENTERTAINMENT : 0.9589350180505415\n",
      "LIBRARIES_AND_DEMO : 0.9363718411552346\n",
      "AUTO_AND_VEHICLES : 0.9250902527075812\n",
      "HOUSE_AND_HOME : 0.8235559566787004\n",
      "WEATHER : 0.8009927797833934\n",
      "EVENTS : 0.7107400722021661\n",
      "PARENTING : 0.6543321299638989\n",
      "ART_AND_DESIGN : 0.6430505415162455\n",
      "COMICS : 0.6204873646209386\n",
      "BEAUTY : 0.5979241877256317\n"
     ]
    }
   ],
   "source": [
    "display_table(android_free, 9)\n",
    "print('\\n')\n",
    "display_table(android_free, 1)"
   ]
  },
  {
   "cell_type": "markdown",
   "metadata": {},
   "source": [
    "The 'Categories' table paints a very different picture than was see from the iOS app store. It looks like there are a lot fewer apps revolving around entertainment, and many more apps that have to do with practical needs and matters such as 'tools', 'business', 'lifestyle', and 'productivity'. \n",
    "\n",
    "Taking a closer look, however, we see that the 'Family' category, which covers 19% of all apps, mainly consists of games aimed at  children. \n",
    "\n",
    "Nonetheless, entertainment apps still are far fewer in frequency than they were on the App Store. \n",
    "\n",
    "The 'genres' category also gives us further insight on this, by splitting the categories even further. The most popular genre is tools at 8.45%. The next most popular is entertainment at 6.07%, and this is followed by Education (5.35%), Business (4.6%), and Productivity (3.89%). Of the top 5 most popular categories, 4 are related to practical needs.\n",
    "\n",
    "The main point to note at this juncture is that while the iOS App Store was dominated by entertainment apps (especialling gaming ones), apps on the Google Play store enjoy much more even representation.\n",
    "\n",
    "Further analysis is clearly needed to determine app popularity."
   ]
  },
  {
   "cell_type": "code",
   "execution_count": 45,
   "metadata": {
    "collapsed": false
   },
   "outputs": [
    {
     "name": "stdout",
     "output_type": "stream",
     "text": [
      "Reference : 74942.11111111111\n",
      "Navigation : 86090.33333333333\n",
      "Medical : 612.0\n",
      "Health & Fitness : 23298.015384615384\n",
      "Sports : 23008.898550724636\n",
      "News : 21248.023255813954\n",
      "Weather : 52279.892857142855\n",
      "Lifestyle : 16485.764705882353\n",
      "Shopping : 26919.690476190477\n",
      "Food & Drink : 33333.92307692308\n",
      "Social Networking : 71548.34905660378\n",
      "Catalogs : 4004.0\n",
      "Utilities : 18684.456790123455\n",
      "Entertainment : 14029.830708661417\n",
      "Business : 7491.117647058823\n",
      "Productivity : 21028.410714285714\n",
      "Games : 22788.6696905016\n",
      "Photo & Video : 28441.54375\n",
      "Travel : 28243.8\n",
      "Book : 39758.5\n",
      "Education : 7003.983050847458\n",
      "Music : 57326.530303030304\n",
      "Finance : 31467.944444444445\n"
     ]
    }
   ],
   "source": [
    "table = freq_table(ios_free, -5)\n",
    "\n",
    "for genre in table:\n",
    "    total = 0\n",
    "    len_genre = 0\n",
    "    for each in ios_free:\n",
    "        genre_app = each[-5]\n",
    "        if genre_app == genre:\n",
    "            n_ratings = float(each[5])\n",
    "            total += n_ratings\n",
    "            len_genre += 1\n",
    "        \n",
    "    average = total / len_genre\n",
    "    \n",
    "    print(genre, ':', average)\n",
    "            \n",
    "# print('\\n')\n",
    "# freq_table(android_free, 9)\n",
    "# print('\\n')\n",
    "# freq_table(android_free, 1)"
   ]
  },
  {
   "cell_type": "markdown",
   "metadata": {},
   "source": [
    "At face value, it appears that Navigation apps have the largest number of ratings per app. However, this large average is heavily skewed by outliers such as Google Maps."
   ]
  },
  {
   "cell_type": "code",
   "execution_count": 50,
   "metadata": {
    "collapsed": false
   },
   "outputs": [
    {
     "name": "stdout",
     "output_type": "stream",
     "text": [
      "Number of raters for  Chase Mobile℠ is:  233270\n",
      "Number of raters for  Mint: Personal Finance, Budget, Bills & Money is:  232940\n",
      "Number of raters for  Bank of America - Mobile Banking is:  119773\n",
      "Number of raters for  PayPal - Send and request money safely is:  119487\n",
      "Number of raters for  Credit Karma: Free Credit Scores, Reports & Alerts is:  101679\n",
      "Number of raters for  Capital One Mobile is:  56110\n",
      "Number of raters for  Citi Mobile® is:  48822\n",
      "Number of raters for  Wells Fargo Mobile is:  43064\n",
      "Number of raters for  Chase Mobile is:  34322\n",
      "Number of raters for  Square Cash - Send Money for Free is:  23775\n",
      "Number of raters for  Capital One for iPad is:  21858\n",
      "Number of raters for  Venmo is:  21090\n",
      "Number of raters for  USAA Mobile is:  19946\n",
      "Number of raters for  TaxCaster – Free tax refund calculator is:  17516\n",
      "Number of raters for  Amex Mobile is:  11421\n",
      "Number of raters for  TurboTax Tax Return App - File 2016 income taxes is:  9635\n",
      "Number of raters for  Bank of America - Mobile Banking for iPad is:  7569\n",
      "Number of raters for  Wells Fargo for iPad is:  2207\n",
      "Number of raters for  Stash Invest: Investing & Financial Education is:  1655\n",
      "Number of raters for  Digit: Save Money Without Thinking About It is:  1506\n",
      "Number of raters for  IRS2Go is:  1329\n",
      "Number of raters for  Capital One CreditWise - Credit score and report is:  1019\n",
      "Number of raters for  U by BB&T is:  790\n",
      "Number of raters for  Paribus - Rebates When Prices Drop is:  768\n",
      "Number of raters for  KeyBank Mobile is:  623\n",
      "Number of raters for  VyStar Mobile Banking for iPhone is:  434\n",
      "Number of raters for  Sparkasse - Your mobile branch is:  77\n",
      "Number of raters for  VyStar Mobile Banking for iPad is:  57\n",
      "Number of raters for  Zaim is:  44\n",
      "Number of raters for  Ma Banque is:  17\n",
      "Number of raters for  Lloyds Bank Mobile Banking is:  17\n",
      "Number of raters for  Suica is:  10\n",
      "Number of raters for  Halifax Mobile Banking is:  8\n",
      "Number of raters for  La Banque Postale is:  8\n",
      "Number of raters for  币优铺 is:  0\n",
      "Number of raters for  Impots.gouv is:  0\n"
     ]
    }
   ],
   "source": [
    "for app in ios_free:\n",
    "    if app[-5] == 'Navigation':\n",
    "        print('Number of raters for ', app[1]  ,'is: ', app[5])"
   ]
  },
  {
   "cell_type": "markdown",
   "metadata": {},
   "source": [
    "This confirms our preliminary suspicion that outliers were heavily skewing the results. Waze and Google Maps had a total of around 500,000 ratings between themselves, while the other 4 apps in the category had a total of less than 16,000. \n",
    "\n",
    "It is likely that this pattern also holds true when it comes to social networking apps, where prominent apps like Facebook might heavily skew the average figure. Music apps also have particularly big players like Pandora and Spotify that might skew results a lot. The Weather and Finance categories also seem to face this setback."
   ]
  },
  {
   "cell_type": "code",
   "execution_count": 52,
   "metadata": {
    "collapsed": false
   },
   "outputs": [
    {
     "name": "stdout",
     "output_type": "stream",
     "text": [
      "Number of raters for  Calorie Counter & Diet Tracker by MyFitnessPal is:  507706\n",
      "Number of raters for  Lose It! – Weight Loss Program and Calorie Counter is:  373835\n",
      "Number of raters for  Weight Watchers is:  136833\n",
      "Number of raters for  Sleep Cycle alarm clock is:  104539\n",
      "Number of raters for  Fitbit is:  90496\n",
      "Number of raters for  Period Tracker Lite is:  53620\n",
      "Number of raters for  Nike+ Training Club - Workouts & Fitness Plans is:  33969\n",
      "Number of raters for  Plant Nanny - Water Reminder with Cute Plants is:  27421\n",
      "Number of raters for  Sworkit - Custom Workouts for Exercise & Fitness is:  16819\n",
      "Number of raters for  Clue Period Tracker: Period & Ovulation Tracker is:  13436\n",
      "Number of raters for  Headspace is:  12819\n",
      "Number of raters for  Fooducate - Lose Weight, Eat Healthy,Get Motivated is:  11875\n",
      "Number of raters for  Runtastic Running, Jogging and Walking Tracker is:  10298\n",
      "Number of raters for  WebMD for iPad is:  9142\n",
      "Number of raters for  8fit - Workouts, meal plans and personal trainer is:  8730\n",
      "Number of raters for  Garmin Connect™ Mobile is:  8341\n",
      "Number of raters for  Record by Under Armour, connects with UA HealthBox is:  7754\n",
      "Number of raters for  Fitstar Personal Trainer is:  7496\n",
      "Number of raters for  My Cycles Period and Ovulation Tracker is:  7469\n",
      "Number of raters for  Seven - 7 Minute Workout Training Challenge is:  6808\n",
      "Number of raters for  RUNNING for weight loss: workout & meal plans is:  6407\n",
      "Number of raters for  Lifesum – Inspiring healthy lifestyle app is:  5795\n",
      "Number of raters for  Waterlogged - Daily Hydration Tracker is:  5000\n",
      "Number of raters for  J&J Official 7 Minute Workout is:  4861\n",
      "Number of raters for  Fitbod Workout Log: Strength Lifting Bodybuilding is:  4668\n",
      "Number of raters for  Runtastic Six Pack Abs Workout & Core Trainer is:  4283\n",
      "Number of raters for  Sweat: Kayla Itsines' Bikini Body Fitness Workouts is:  3788\n",
      "Number of raters for  Smart Alarm Clock : sleep cycle & snoring recorder is:  3779\n",
      "Number of raters for  My Challenge Tracker is:  3682\n",
      "Number of raters for  Charity Miles: Walking & Running Distance Tracker is:  3115\n",
      "Number of raters for  Ab & Core Sworkit - Free Workout Trainer is:  2901\n",
      "Number of raters for  Simple Habit is:  2494\n",
      "Number of raters for  Asana Rebel - Yoga Inspired Fitness is:  2459\n",
      "Number of raters for  Life Cycle - Track Your Time Automatically is:  1760\n",
      "Number of raters for  Freeletics Bodyweight - Workouts and Training is:  1722\n",
      "Number of raters for  Runtastic Results: Workout & Bodyweight Training is:  1718\n",
      "Number of raters for  My Water Balance: Daily Drink Tracker & Reminder is:  1601\n",
      "Number of raters for  Butt Sworkit - Free Workout Trainer to tone & lift is:  960\n",
      "Number of raters for  My Score Plus Weight Loss, Food & Exercise Tracker is:  467\n",
      "Number of raters for  Sleep Meister - Sleep Cycle Alarm Lite is:  445\n",
      "Number of raters for  Walk for a Dog is:  412\n",
      "Number of raters for  Quick Fit - 7 Minute Workout, Abs, and Yoga is:  407\n",
      "Number of raters for  Fit Girls Guide is:  397\n",
      "Number of raters for  Walking for Weight Loss: training plans, GPS, tips is:  397\n",
      "Number of raters for  Zen is:  298\n",
      "Number of raters for  Model My Diet - Women - Weight Loss Motivation is:  236\n",
      "Number of raters for  Runtastic Butt Workout & Booty Trainer Plans is:  222\n",
      "Number of raters for  Dot - A Period & Fertility Tracker is:  142\n",
      "Number of raters for  YAZIO – Calorie Counter & Nutrition Tracker is:  115\n",
      "Number of raters for  SmartFit - Wristband is:  105\n",
      "Number of raters for  Dr. Oz is:  99\n",
      "Number of raters for  Crane Connect is:  94\n",
      "Number of raters for  Morning Routine : Daily Habit Tracker is:  40\n",
      "Number of raters for  Wellbeyond Meditation for Kids is:  36\n",
      "Number of raters for  SenseSleep - Train Your Brain To Sleep Better is:  22\n",
      "Number of raters for  Snail Sleep-Dream Talk Recording is:  19\n",
      "Number of raters for  ameli, l'Assurance Maladie is:  8\n",
      "Number of raters for  VIBO RealMassager is:  6\n",
      "Number of raters for  FizzUp – Online Fitness Trainer is:  5\n",
      "Number of raters for  2Face Fitpack - Dein Trainingsprogramm mit persönlichem Ernährungsplan, Kalorienrechner und Trainingsplan is:  0\n",
      "Number of raters for  GYMONDO – Fitness Training für Zuhause is:  0\n",
      "Number of raters for  Superdrug is:  0\n",
      "Number of raters for  airweave sleep analysis is:  0\n",
      "Number of raters for  Sonia Tlev is:  0\n",
      "Number of raters for  Intuition Guidances is:  0\n"
     ]
    }
   ],
   "source": [
    "for app in ios_free:\n",
    "    if app[-5] == 'Health & Fitness':\n",
    "        print('Number of raters for ', app[1]  ,'is: ', app[5])"
   ]
  },
  {
   "cell_type": "markdown",
   "metadata": {},
   "source": [
    "To some degree, the same situation applies to the 'Health & Fitness' genre, but one thing to note here is that the runner-ups are fairly competitive nonetheless. \n",
    "\n",
    "It is a possible that a targetted, well-designed ad of this genre might serve some potential use, so long as it finds a suitable niche. Since entertainment seems to be so popular, it might be well-advised to build an app that 'gamifies' health and fitness, so to speak.\n",
    "\n",
    "For instance, it could market Health & Fitness as something fun and enjoyable, by leveraging on people's love of sports, as well as their latent desires to get in shape. In addition to improving their fitness, it could also offer a sense of progress by tracking the activities they engage in, thereby offering another avenue of measurable progress. "
   ]
  },
  {
   "cell_type": "markdown",
   "metadata": {},
   "source": [
    "Next, we analyze the Google Play apps."
   ]
  },
  {
   "cell_type": "code",
   "execution_count": 53,
   "metadata": {
    "collapsed": false
   },
   "outputs": [
    {
     "name": "stdout",
     "output_type": "stream",
     "text": [
      "1,000,000+ : 15.726534296028879\n",
      "100,000+ : 11.552346570397113\n",
      "10,000,000+ : 10.548285198555957\n",
      "10,000+ : 10.198555956678701\n",
      "1,000+ : 8.393501805054152\n",
      "100+ : 6.915613718411552\n",
      "5,000,000+ : 6.825361010830325\n",
      "500,000+ : 5.561823104693141\n",
      "50,000+ : 4.7721119133574\n",
      "5,000+ : 4.512635379061372\n",
      "10+ : 3.5424187725631766\n",
      "500+ : 3.2490974729241873\n",
      "50,000,000+ : 2.3014440433213\n",
      "100,000,000+ : 2.1322202166064983\n",
      "50+ : 1.917870036101083\n",
      "5+ : 0.78971119133574\n",
      "1+ : 0.5076714801444043\n",
      "500,000,000+ : 0.2707581227436823\n",
      "1,000,000,000+ : 0.22563176895306858\n",
      "0+ : 0.04512635379061372\n",
      "0 : 0.01128158844765343\n"
     ]
    }
   ],
   "source": [
    "display_table(android_free, 5)"
   ]
  },
  {
   "cell_type": "code",
   "execution_count": 62,
   "metadata": {
    "collapsed": false
   },
   "outputs": [
    {
     "name": "stdout",
     "output_type": "stream",
     "text": [
      "DATING : 854028.8303030303\n",
      "PRODUCTIVITY : 16787331.344927534\n",
      "BOOKS_AND_REFERENCE : 8767811.894736841\n",
      "BUSINESS : 1712290.1474201474\n",
      "AUTO_AND_VEHICLES : 647317.8170731707\n",
      "TOOLS : 10801391.298666667\n",
      "ENTERTAINMENT : 11640705.88235294\n",
      "NEWS_AND_MAGAZINES : 9549178.467741935\n",
      "SHOPPING : 7036877.311557789\n",
      "COMMUNICATION : 38456119.167247385\n",
      "HEALTH_AND_FITNESS : 4188821.9853479853\n",
      "EVENTS : 253542.22222222222\n",
      "LIBRARIES_AND_DEMO : 638503.734939759\n",
      "SPORTS : 3638640.1428571427\n",
      "FAMILY : 3695641.8198090694\n",
      "GAME : 15588015.603248259\n",
      "HOUSE_AND_HOME : 1331540.5616438356\n",
      "MEDICAL : 120550.61980830671\n",
      "PHOTOGRAPHY : 17840110.40229885\n",
      "LIFESTYLE : 1437816.2687861272\n",
      "TRAVEL_AND_LOCAL : 13984077.710144928\n",
      "FOOD_AND_DRINK : 1924897.7363636363\n",
      "VIDEO_PLAYERS : 24727872.452830188\n",
      "ART_AND_DESIGN : 1986335.0877192982\n",
      "EDUCATION : 1833495.145631068\n",
      "BEAUTY : 513151.88679245283\n",
      "COMICS : 817657.2727272727\n",
      "PERSONALIZATION : 5201482.6122448975\n",
      "PARENTING : 542603.6206896552\n",
      "SOCIAL : 23253652.127118643\n",
      "WEATHER : 5074486.197183099\n",
      "FINANCE : 1387692.475609756\n",
      "MAPS_AND_NAVIGATION : 4056941.7741935486\n"
     ]
    }
   ],
   "source": [
    "table = freq_table(android_free, 1)\n",
    "\n",
    "for category in table:\n",
    "    total = 0\n",
    "    len_genre = 0\n",
    "    for each in android_free:\n",
    "        category_app = each[1]\n",
    "        if category_app == category:\n",
    "            n_installs = each[5]\n",
    "            n_installs = n_installs.replace('+', '')\n",
    "            n_installs = n_installs.replace(',', '')\n",
    "            n_installs = float(n_installs)\n",
    "            total += n_installs\n",
    "            len_genre += 1\n",
    "        \n",
    "    average = total / len_genre\n",
    "    \n",
    "    print(category, ':', average)\n",
    "            "
   ]
  },
  {
   "cell_type": "markdown",
   "metadata": {},
   "source": [
    "On average, Communication apps have the most installs at 38.5 million. However, this is clearly skewed by very few apps such as Gmail, Whatsapp, and Skype that each have over a billion downloads."
   ]
  },
  {
   "cell_type": "code",
   "execution_count": 64,
   "metadata": {
    "collapsed": false
   },
   "outputs": [
    {
     "name": "stdout",
     "output_type": "stream",
     "text": [
      "WhatsApp Messenger : 1,000,000,000+\n",
      "Messenger – Text and Video Chat for Free : 1,000,000,000+\n",
      "Skype - free IM & video calls : 1,000,000,000+\n",
      "Google Chrome: Fast & Secure : 1,000,000,000+\n",
      "Gmail : 1,000,000,000+\n",
      "Hangouts : 1,000,000,000+\n"
     ]
    }
   ],
   "source": [
    "for app in android_free:\n",
    "    if app[1] == 'COMMUNICATION' and (app[5] == '1,000,000,000+'):\n",
    "        print(app[0], ':', app[5])"
   ]
  },
  {
   "cell_type": "markdown",
   "metadata": {},
   "source": [
    "By removing the outliers with over a billion installs, the average number of installs plummets to 17 million, which is around half of what it was with the outliers. \n",
    "\n",
    "Even further, by defining outliers as exceeding 100mill (as opposed to 1 million), the average falls even further to only 3.6million."
   ]
  },
  {
   "cell_type": "code",
   "execution_count": 70,
   "metadata": {
    "collapsed": false
   },
   "outputs": [
    {
     "name": "stdout",
     "output_type": "stream",
     "text": [
      "17924933.09964413\n"
     ]
    },
    {
     "data": {
      "text/plain": [
       "3603485.3884615386"
      ]
     },
     "execution_count": 70,
     "metadata": {},
     "output_type": "execute_result"
    }
   ],
   "source": [
    "less_popular = []\n",
    "\n",
    "for each in android_free:\n",
    "    n_installs = each[5]\n",
    "    n_installs = n_installs.replace(',', '')\n",
    "    n_installs = n_installs.replace('+', '')\n",
    "    if (each[1] == 'COMMUNICATION') and (float(n_installs) < 1000000000):\n",
    "        less_popular.append(float(n_installs))\n",
    "        \n",
    "print(sum(less_popular) / len(less_popular))\n",
    "\n",
    "less_popular = []\n",
    "\n",
    "for each in android_free:\n",
    "    n_installs = each[5]\n",
    "    n_installs = n_installs.replace(',', '')\n",
    "    n_installs = n_installs.replace('+', '')\n",
    "    if (each[1] == 'COMMUNICATION') and (float(n_installs) < 100000000):\n",
    "        less_popular.append(float(n_installs))\n",
    "        \n",
    "sum(less_popular) / len(less_popular)"
   ]
  },
  {
   "cell_type": "markdown",
   "metadata": {},
   "source": [
    "A similar pattern is observed with categories like Video Players and social networking apps.\n",
    "\n",
    "We don't want to be misled into thinking that a category is more popular than it really is, and we especially don't want to dive into a category where we might have to compete against giants like Youtube and Facebook. "
   ]
  },
  {
   "cell_type": "code",
   "execution_count": 76,
   "metadata": {
    "collapsed": false
   },
   "outputs": [
    {
     "name": "stdout",
     "output_type": "stream",
     "text": [
      "Pedometer - Step Counter Free & Calorie Burner : 1,000,000+\n",
      "Sportractive GPS Running Cycling Distance Tracker : 1,000,000+\n",
      "Home Workout for Men - Bodybuilding : 1,000,000+\n",
      "Sleep Sounds : 1,000,000+\n",
      "Calorie Counter - EasyFit free : 1,000,000+\n",
      "Bike Computer - GPS Cycling Tracker : 1,000,000+\n",
      "Running Distance Tracker + : 1,000,000+\n",
      "Walking: Pedometer diet : 1,000,000+\n",
      "Keep Trainer - Workout Trainer & Fitness Coach : 1,000,000+\n",
      "PumpUp — Fitness Community : 1,000,000+\n",
      "Home workouts - fat burning, abs, legs, arms,chest : 1,000,000+\n",
      "Running Weight Loss Walking Jogging Hiking FITAPP : 1,000,000+\n",
      "StrongLifts 5x5 Workout Gym Log & Personal Trainer : 1,000,000+\n",
      "Fitbit Coach : 1,000,000+\n",
      "Map My Ride GPS Cycling Riding : 1,000,000+\n",
      "Weight Loss Running by Verv : 1,000,000+\n",
      "Map My Fitness Workout Trainer : 1,000,000+\n",
      "Seven - 7 Minute Workout Training Challenge : 1,000,000+\n",
      "Relax Meditation: Sleep with Sleep Sounds : 1,000,000+\n",
      "Meditate OM : 1,000,000+\n",
      "Meditation Music - Relax, Yoga : 1,000,000+\n",
      "Simply Yoga - Fitness Trainer for Workouts & Poses : 1,000,000+\n",
      "Pregnancy & Baby Tracker : 1,000,000+\n",
      "My Cycles Period and Ovulation : 1,000,000+\n",
      "I’m Expecting - Pregnancy App : 1,000,000+\n",
      "The Bump Pregnancy Tracker : 1,000,000+\n",
      "Best Ovulation Tracker Fertility Calendar App Glow : 1,000,000+\n",
      "Eve Period Tracker - Love, Sex & Relationships App : 1,000,000+\n",
      "Fertility Friend Ovulation App : 1,000,000+\n",
      "OvuView: Ovulation and Fertility : 1,000,000+\n",
      "ViewRanger - Hike, Ride or Walk : 1,000,000+\n",
      "Runtastic Mountain Bike GPS Tracker : 1,000,000+\n",
      "AllTrails: Hiking, Running & Mountain Bike Trails : 1,000,000+\n",
      "Couch to 5K by RunDouble : 1,000,000+\n",
      "Fooducate Healthy Weight Loss & Calorie Counter : 1,000,000+\n",
      "Calorie Counter - MyNetDiary : 1,000,000+\n",
      "MyPlate Calorie Tracker : 1,000,000+\n",
      "My Diet Diary Calorie Counter : 1,000,000+\n",
      "Weight Loss Tracker - RecStyle : 1,000,000+\n",
      "Calorie Counter & Diet Tracker : 1,000,000+\n",
      "Binaural Beats Therapy : 1,000,000+\n",
      "Insight Timer - Free Meditation App : 1,000,000+\n",
      "Prana Breath: Calm & Meditate : 1,000,000+\n",
      "White Noise Lite : 1,000,000+\n",
      "Stop, Breathe & Think: Meditation & Mindfulness : 1,000,000+\n",
      "Oral-B App : 1,000,000+\n",
      "Ultimate Ab & Core Workouts : 1,000,000+\n",
      "6 Pack Promise - Ultimate Abs : 1,000,000+\n",
      "Abs workout 7 minutes : 1,000,000+\n",
      "30 Day Ab Challenge FREE : 1,000,000+\n",
      "Ab Workouts : 1,000,000+\n",
      "Abs workout - 21 Day Fitness Challenge : 1,000,000+\n",
      "Ladies' Ab Workout FREE : 1,000,000+\n",
      "Women\"s Health Tips(Breast,Face,Body,weight lose) : 1,000,000+\n",
      "Bacteria Vaginosis : 1,000,000+\n",
      "Burn Your Fat With Me! FG : 1,000,000+\n"
     ]
    }
   ],
   "source": [
    "for app in android_free:\n",
    "    if app[1] == 'HEALTH_AND_FITNESS'and (app[5] == '1,000,000+'):\n",
    "        print(app[0], ':', app[5])"
   ]
  },
  {
   "cell_type": "markdown",
   "metadata": {},
   "source": [
    "Once again, I believe the HEALTH_AND_FITNESS category appears to have a lot of potential. This category has an average of a modest 4.8 million installs, and even after removing outliers with over 100 million installs, it retains an impressive 2 million or so average install rate. \n",
    "\n",
    "Moreover, further reducing the number of outliers so we're only looking at apps with less than 10 million installs, the average install amount is still around 768,000, which is still a respectable amount. "
   ]
  },
  {
   "cell_type": "code",
   "execution_count": 82,
   "metadata": {
    "collapsed": false
   },
   "outputs": [
    {
     "name": "stdout",
     "output_type": "stream",
     "text": [
      "2005713.6605166052\n",
      "767984.9456066946\n"
     ]
    }
   ],
   "source": [
    "less_popular = []\n",
    "\n",
    "for each in android_free:\n",
    "    n_installs = each[5]\n",
    "    n_installs = n_installs.replace(',', '')\n",
    "    n_installs = n_installs.replace('+', '')\n",
    "    if (each[1] == 'HEALTH_AND_FITNESS') and (float(n_installs) < 100000000):\n",
    "        less_popular.append(float(n_installs))\n",
    "        \n",
    "print(sum(less_popular) / len(less_popular))\n",
    "\n",
    "less_popular = []\n",
    "\n",
    "for each in android_free:\n",
    "    n_installs = each[5]\n",
    "    n_installs = n_installs.replace(',', '')\n",
    "    n_installs = n_installs.replace('+', '')\n",
    "    if (each[1] == 'HEALTH_AND_FITNESS') and (float(n_installs) < 10000000):\n",
    "        less_popular.append(float(n_installs))\n",
    "        \n",
    "print(sum(less_popular) / len(less_popular))"
   ]
  },
  {
   "cell_type": "code",
   "execution_count": 83,
   "metadata": {
    "collapsed": false
   },
   "outputs": [
    {
     "name": "stdout",
     "output_type": "stream",
     "text": [
      "Pedometer - Step Counter Free & Calorie Burner : 1,000,000+\n",
      "Sportractive GPS Running Cycling Distance Tracker : 1,000,000+\n",
      "Home Workout for Men - Bodybuilding : 1,000,000+\n",
      "Fat Burning Workout - Home Weight lose : 100,000+\n",
      "Walking for Weight Loss - Walk Tracker : 100,000+\n",
      "Sleep Sounds : 1,000,000+\n",
      "Abs Training-Burn belly fat : 100,000+\n",
      "Calorie Counter - EasyFit free : 1,000,000+\n",
      "Bike Computer - GPS Cycling Tracker : 1,000,000+\n",
      "Six Packs for Man–Body Building with No Equipment : 100,000+\n",
      "Running Distance Tracker + : 1,000,000+\n",
      "The TK-App - everything under control : 100,000+\n",
      "Walking: Pedometer diet : 1,000,000+\n",
      "Abs Workout - 30 Days Fitness App for Six Pack Abs : 100,000+\n",
      "Keep Trainer - Workout Trainer & Fitness Coach : 1,000,000+\n",
      "PumpUp — Fitness Community : 1,000,000+\n",
      "Home workouts - fat burning, abs, legs, arms,chest : 1,000,000+\n",
      "Running Weight Loss Walking Jogging Hiking FITAPP : 1,000,000+\n",
      "StrongLifts 5x5 Workout Gym Log & Personal Trainer : 1,000,000+\n",
      "Fitbit Coach : 1,000,000+\n",
      "Map My Ride GPS Cycling Riding : 1,000,000+\n",
      "Weight Loss Running by Verv : 1,000,000+\n",
      "Map My Fitness Workout Trainer : 1,000,000+\n",
      "Seven - 7 Minute Workout Training Challenge : 1,000,000+\n",
      "Relax Meditation: Sleep with Sleep Sounds : 1,000,000+\n",
      "Free Meditation - Take a Break : 100,000+\n",
      "Meditate OM : 1,000,000+\n",
      "Relax with Andrew Johnson Lite : 100,000+\n",
      "Meditation Music - Relax, Yoga : 1,000,000+\n",
      "21-Day Meditation Experience : 100,000+\n",
      "My Chakra Meditation 2 : 100,000+\n",
      "Simply Yoga - Fitness Trainer for Workouts & Poses : 1,000,000+\n",
      "Yoga Studio: Mind & Body : 100,000+\n",
      "Pregnancy & Baby Tracker : 1,000,000+\n",
      "My Cycles Period and Ovulation : 1,000,000+\n",
      "I’m Expecting - Pregnancy App : 1,000,000+\n",
      "The Bump Pregnancy Tracker : 1,000,000+\n",
      "Best Ovulation Tracker Fertility Calendar App Glow : 1,000,000+\n",
      "Eve Period Tracker - Love, Sex & Relationships App : 1,000,000+\n",
      "Fertility Friend Ovulation App : 1,000,000+\n",
      "OvuView: Ovulation and Fertility : 1,000,000+\n",
      "ViewRanger - Hike, Ride or Walk : 1,000,000+\n",
      "Runtastic Mountain Bike GPS Tracker : 1,000,000+\n",
      "AllTrails: Hiking, Running & Mountain Bike Trails : 1,000,000+\n",
      "Couch to 5K by RunDouble : 1,000,000+\n",
      "Fooducate Healthy Weight Loss & Calorie Counter : 1,000,000+\n",
      "Calorie Counter - MyNetDiary : 1,000,000+\n",
      "MyPlate Calorie Tracker : 1,000,000+\n",
      "My Diet Diary Calorie Counter : 1,000,000+\n",
      "Calorie Counter - Macros : 100,000+\n",
      "Weight Loss Tracker - RecStyle : 1,000,000+\n",
      "Lark - 24/7 Health Coach : 100,000+\n",
      "Calorie Counter & Diet Tracker : 1,000,000+\n",
      "Food Calorie Calculator : 100,000+\n",
      "Eat Fit - Diet and Health Free : 100,000+\n",
      "Happify : 100,000+\n",
      "Binaural Beats Therapy : 1,000,000+\n",
      "Relaxing Sounds : 100,000+\n",
      "Insight Timer - Free Meditation App : 1,000,000+\n",
      "Prana Breath: Calm & Meditate : 1,000,000+\n",
      "White Noise Lite : 1,000,000+\n",
      "Stop, Breathe & Think: Meditation & Mindfulness : 1,000,000+\n",
      "Oral-B App : 1,000,000+\n",
      "HPlus : 100,000+\n",
      "Ultimate Ab & Core Workouts : 1,000,000+\n",
      "6 Pack Promise - Ultimate Abs : 1,000,000+\n",
      "Abs, Core & Back Workout Challenge : 100,000+\n",
      "AB Mobile App : 100,000+\n",
      "Abs workout 7 minutes : 1,000,000+\n",
      "30 Day Ab Challenge FREE : 1,000,000+\n",
      "ABS Workout - Belly workout, 30 days AB : 100,000+\n",
      "7 minute abs workout - Daily Ab Workout : 100,000+\n",
      "Ab Workouts : 1,000,000+\n",
      "Abs workout - 21 Day Fitness Challenge : 1,000,000+\n",
      "Ladies' Ab Workout FREE : 1,000,000+\n",
      "Sleep as Android Gear Addon : 100,000+\n",
      "Cures A-Z : 100,000+\n",
      "Women\"s Health Tips(Breast,Face,Body,weight lose) : 1,000,000+\n",
      "Blood Glucose Tracker : 100,000+\n",
      "Bacteria Vaginosis : 1,000,000+\n",
      "Pharmacy CI - Pharmacies de garde Côte d'Ivoire : 100,000+\n",
      "Pharmacie de Garde CI et Prix : 100,000+\n",
      "Burn Your Fat With Me! FG : 1,000,000+\n",
      "Florida Blue : 100,000+\n"
     ]
    }
   ],
   "source": [
    "for app in android_free:\n",
    "    if app[1] == 'HEALTH_AND_FITNESS'and (app[5] == '1,000,000+' or app[5] == '100,000+'):\n",
    "        print(app[0], ':', app[5])"
   ]
  },
  {
   "cell_type": "markdown",
   "metadata": {},
   "source": [
    "The average app here (including most things from 100,000 to 1,000,000+ installs) seem to be about a variety of different things, such as weight loss, blood glucose levels, fertility, meditation, and sports. \n",
    "\n",
    "A large number of apps are centered around body-building, especially when it comes to things like having abs and very defined musculature. It would appear that making an app that sells these promises might be very profitable!\n",
    "\n",
    "This also ties back in to our earlier conclusion from the iOS App Store about health and fitness products!"
   ]
  },
  {
   "cell_type": "markdown",
   "metadata": {},
   "source": [
    "# Conclusion\n",
    "\n",
    "Since weight loss (i.e. body fat reduction) is a very significant part of body-building, especially for someone who just casually trains, hoping to achieve abs and some more defined musculature, it might be an extremely good idea to market a way of losing weight through an avenue that people enjoy, i.e. sports. This kind of app would likely do well in both the Google Play and App Stores, which is exactly what our company intends to do.\n",
    "\n",
    "Furthermore, fitness and sports-related aps often feature advertisements that sell things like nutrition and weight loss supplements. Because people interested in improving their health also tend to seek out these supplements to help them reach their goals quicker, the advertisements we place in our ads would have a very high click rate, thus generating higher revenue. \n",
    "\n",
    "The app should be something that sells an approach to weight loss through very accessible and enjoyable means. An appropriately sensationalistic slogan like \"lose weight doing what you love!\" is also bound to grab attention very quickly might also be something that would go well with the app. "
   ]
  },
  {
   "cell_type": "code",
   "execution_count": null,
   "metadata": {
    "collapsed": true
   },
   "outputs": [],
   "source": []
  }
 ],
 "metadata": {
  "kernelspec": {
   "display_name": "Python 3",
   "language": "python",
   "name": "python3"
  },
  "language_info": {
   "codemirror_mode": {
    "name": "ipython",
    "version": 3
   },
   "file_extension": ".py",
   "mimetype": "text/x-python",
   "name": "python",
   "nbconvert_exporter": "python",
   "pygments_lexer": "ipython3",
   "version": "3.4.3"
  }
 },
 "nbformat": 4,
 "nbformat_minor": 2
}
